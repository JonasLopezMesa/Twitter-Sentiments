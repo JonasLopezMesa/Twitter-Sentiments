{
 "cells": [
  {
   "cell_type": "markdown",
   "metadata": {},
   "source": [
    "# PFG: Streaming API"
   ]
  },
  {
   "cell_type": "markdown",
   "metadata": {},
   "source": [
    "Se realizan consultas en el flujo global de consultas de Twitter. No es histórico, sino en tiempo real."
   ]
  },
  {
   "cell_type": "markdown",
   "metadata": {},
   "source": [
    "## Carga inicial de datos"
   ]
  },
  {
   "cell_type": "code",
   "execution_count": null,
   "metadata": {},
   "outputs": [],
   "source": [
    "import requests\n",
    "from requests_oauthlib import OAuth1\n",
    "url = 'https://stream.Twitter.com/1.1/statuses/filter.json'\n",
    "auth = OAuth1(consumer_key, consumer_secret, access_token, access_token_secret)\n",
    "pms = {'track' : 'premier league -filter:retweets AND -filter:replies', 'lang': 'en'}"
   ]
  },
  {
   "cell_type": "markdown",
   "metadata": {},
   "source": [
    "Como con el REST_API se debe realizar la configuración de la información que se quiere rescatar en el Streaming, cargando la información necesaria del endpoint, las librerías, las claves y los tokens de acceso y los parámetros necesarios. \n",
    "La diferencia fundamental en la variable **pms** (la de los parámetros) es que, en este caso, al contrario que en REST_API, se indica como primer parámetro track y en REST_API se indicaba una consulta q."
   ]
  },
  {
   "cell_type": "code",
   "execution_count": null,
   "metadata": {},
   "outputs": [],
   "source": [
    "from pymongo import MongoClient\n",
    "client = MongoClient('mongodb://localhost:27017/')\n",
    "db = client[database_name]\n",
    "mongo = db[collection_name] #en REST_API el nombre de la variable era collection, pero aquí lo cambio por mongo para que coincida con la sección de código siguiente"
   ]
  },
  {
   "cell_type": "markdown",
   "metadata": {},
   "source": [
    "<font color='red'>Para poder insertar la información en la base de datos se debe importar de nuevo la librería que permite utilizar Mongo. Seguramente no será igual que en el REST_API, pero lo pongo por ahora para después modificarlo.</font> Según la [documentación de mongo](https://docs.mongodb.com/manual/reference/method/db.collection.insert/) el método insert se utiliza en una colección de la base de datos, así que cambio el nombre de la variable collection por mongo."
   ]
  },
  {
   "cell_type": "code",
   "execution_count": null,
   "metadata": {},
   "outputs": [],
   "source": [
    "res = requests.post(url, auth=auth, params = pms, stream = True)\n",
    "for line in res.iter_lines(): \n",
    "    if line:\n",
    "        tweet = json.loads(line.decode('utf-8'))\n",
    "        try:\n",
    "            mongo.insert(tweet)\n",
    "        except:\n",
    "            pass"
   ]
  },
  {
   "cell_type": "markdown",
   "metadata": {},
   "source": [
    "Esta sección de código se encarga de recibir la información.\n",
    "Para ello en primer lugar se almacena en la variable **res** la información necesaria para la *consulta*: el endpoint, la información de autorización los parámetros e indicamos con una variable booleana que se trata de un Stream. \n",
    "Todo esto se hace mediante una petición post.\n",
    "A continuación, mediante un bucle for se va iterando sobre cada línea que vaya devolviendo el post y por cada iteración se transforma la información en json (ya que viene en binario) y a continuación se intenta almacenar en la base de datos."
   ]
  }
 ],
 "metadata": {
  "kernelspec": {
   "display_name": "Python 3",
   "language": "python",
   "name": "python3"
  },
  "language_info": {
   "codemirror_mode": {
    "name": "ipython",
    "version": 3
   },
   "file_extension": ".py",
   "mimetype": "text/x-python",
   "name": "python",
   "nbconvert_exporter": "python",
   "pygments_lexer": "ipython3",
   "version": "3.6.4"
  }
 },
 "nbformat": 4,
 "nbformat_minor": 2
}
