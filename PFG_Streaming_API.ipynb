{
 "cells": [
  {
   "cell_type": "markdown",
   "metadata": {},
   "source": [
    "# PFG: Streaming API"
   ]
  },
  {
   "cell_type": "markdown",
   "metadata": {},
   "source": [
    "Se realizan consultas en el flujo global de consultas de Twitter. No es histórico, sino en tiempo real."
   ]
  },
  {
   "cell_type": "markdown",
   "metadata": {},
   "source": [
    "## Carga inicial de datos"
   ]
  },
  {
   "cell_type": "code",
   "execution_count": 1,
   "metadata": {},
   "outputs": [
    {
     "name": "stdout",
     "output_type": "stream",
     "text": [
      "[nltk_data] Downloading package stopwords to C:\\Users\\Servicio\n",
      "[nltk_data]     Técnico\\AppData\\Roaming\\nltk_data...\n",
      "[nltk_data]   Package stopwords is already up-to-date!\n"
     ]
    }
   ],
   "source": [
    "import nltk\n",
    "nltk.download('stopwords')\n",
    "import pandas as pd\n",
    "from bs4 import BeautifulSoup\n",
    "import requests\n",
    "from requests_oauthlib import OAuth1\n",
    "from nltk.tokenize import TweetTokenizer\n",
    "from nltk.corpus import stopwords\n",
    "import string\n",
    "from pymongo import MongoClient\n",
    "import simplejson as json\n",
    "consumer_key='ynSB0dFvqPl3xRU7AmYk39rGT'\n",
    "consumer_secret='6alIXTKSxf0RE57QK3fDQ8dxdvlsVr1IRsHDZmoSlMx96YKBFD'\n",
    "access_token='966591013182722049-BVXW14Hf5s6O2oIwS3vtJ3S3dOsKLbY'\n",
    "access_token_secret='829DTKPjmwsSytmp1ky9fMCJkjV0LZ04TbL9oqHGV6cDm'"
   ]
  },
  {
   "cell_type": "code",
   "execution_count": 2,
   "metadata": {},
   "outputs": [],
   "source": [
    "url = 'https://stream.Twitter.com/1.1/statuses/filter.json'\n",
    "auth = OAuth1(consumer_key, consumer_secret, access_token, access_token_secret)\n",
    "pms = {'track' : 'premier league -filter:retweets AND -filter:replies', 'lang': 'en'}"
   ]
  },
  {
   "cell_type": "markdown",
   "metadata": {},
   "source": [
    "Como con el REST_API se debe realizar la configuración de la información que se quiere rescatar en el Streaming, cargando la información necesaria del endpoint, las librerías, las claves y los tokens de acceso y los parámetros necesarios. \n",
    "La diferencia fundamental en la variable **pms** (la de los parámetros) es que, en este caso, al contrario que en REST_API, se indica como primer parámetro track y en REST_API se indicaba una consulta q."
   ]
  },
  {
   "cell_type": "code",
   "execution_count": 4,
   "metadata": {},
   "outputs": [],
   "source": [
    "database_name='streamingData'\n",
    "collection_name='streamingColeccion'\n",
    "client = MongoClient('mongodb://localhost:27017/')\n",
    "db = client[database_name]\n",
    "mongo = db[collection_name] #en REST_API el nombre de la variable era collection, pero aquí lo cambio por mongo para que coincida con la sección de código siguiente"
   ]
  },
  {
   "cell_type": "markdown",
   "metadata": {},
   "source": [
    "<font color='red'>Para poder insertar la información en la base de datos se debe importar de nuevo la librería que permite utilizar Mongo. Seguramente no será igual que en el REST_API, pero lo pongo por ahora para después modificarlo.</font> Según la [documentación de mongo](https://docs.mongodb.com/manual/reference/method/db.collection.insert/) el método insert se utiliza en una colección de la base de datos, así que cambio el nombre de la variable collection por mongo.<font color='red'>falta establecer el nombre de la base de datos y el nombre de la colección</font>"
   ]
  },
  {
   "cell_type": "code",
   "execution_count": null,
   "metadata": {},
   "outputs": [],
   "source": [
    "res = requests.post(url, auth=auth, params = pms, stream = True)\n",
    "texto = 'entra'\n",
    "for line in res.iter_lines(): \n",
    "    if line:\n",
    "        tweet = json.loads(line.decode('utf-8'))\n",
    "        try:\n",
    "            mongo.insert(tweet)\n",
    "        except:\n",
    "            pass"
   ]
  },
  {
   "cell_type": "markdown",
   "metadata": {},
   "source": [
    "Esta sección de código se encarga de recibir la información.\n",
    "Para ello en primer lugar se almacena en la variable **res** la información necesaria para la *consulta*: el endpoint, la información de autorización los parámetros e indicamos con una variable booleana que se trata de un Stream. \n",
    "Todo esto se hace mediante una petición post.\n",
    "A continuación, mediante un bucle for se va iterando sobre cada línea que vaya devolviendo el post y por cada iteración se transforma la información en json (ya que viene en binario) y a continuación se intenta almacenar en la base de datos."
   ]
  },
  {
   "cell_type": "code",
   "execution_count": null,
   "metadata": {},
   "outputs": [],
   "source": [
    "documents = []\n",
    "for doc in collection.find():\n",
    "    documents.append(doc)\n",
    "df = bd.DataFrame(documents) #en el libro ponía pd, se tratará de una errata"
   ]
  },
  {
   "cell_type": "markdown",
   "metadata": {},
   "source": [
    "Lo que se hace a continuación es utilizar la base de datos de mongo en la que se ha estado almacenando los tweets para volcar la información de forma tabular, donde las columnas indican los nombres de los nodos del documento y las filas representan los datos.\n",
    "En **df** se guarda el DataFrame extraído previamente en **documents**."
   ]
  },
  {
   "cell_type": "code",
   "execution_count": null,
   "metadata": {},
   "outputs": [],
   "source": [
    "df = pd.DataFrame(documents)\n",
    "df['tweet_source'] = df['source'].apply(lambda x:BeautifulSoup(x).get_text())\n",
    "devices = list(set(df[df['tweet_source'].str.startswith('Twitter')]['tweet_source']))\n",
    "devices.remove('Twitter Ads')\n",
    "df = df[df['tweet_source'].isin(devices)]\n",
    "#TOKENIZATION\n",
    "df['tokens'] = df['text'].apply(TweetTokenizer().tokenize)\n",
    "#STOPWORDS\n",
    "stopwords_vocabulary = stopwords.words('spanish') #estará en español?\n",
    "df['stopwords'] = df['tokens'].apply(lambda x: [i for i in x if i.lower() not in stopwords_vocabulary])\n",
    "#SPECIAL CHARACTERS AND STOPWORDS REMOVAL\n",
    "punctuations = list(string.punctuation)\n",
    "df['punctuation'] = df['stopwords'].apply(lambda x: [i for i in x if i not in punctuations])\n",
    "df['digits'] = df['punctuation'].apply(lambda x: [i for i in x if i[0] not in list(string.digits)])\n",
    "df['final'] = df['digits'].apply(lambda x: [i for i in x if len(i) > 1])"
   ]
  }
 ],
 "metadata": {
  "kernelspec": {
   "display_name": "Python 3",
   "language": "python",
   "name": "python3"
  },
  "language_info": {
   "codemirror_mode": {
    "name": "ipython",
    "version": 3
   },
   "file_extension": ".py",
   "mimetype": "text/x-python",
   "name": "python",
   "nbconvert_exporter": "python",
   "pygments_lexer": "ipython3",
   "version": "3.6.4"
  }
 },
 "nbformat": 4,
 "nbformat_minor": 2
}
