{
 "cells": [
  {
   "cell_type": "markdown",
   "metadata": {},
   "source": [
    "# REST API Search Endpoint"
   ]
  },
  {
   "cell_type": "markdown",
   "metadata": {},
   "source": [
    "Método de consulta de tweets históricos (hasta una semana) basándose en varios criterios, es muy adecuado para un análisis estático."
   ]
  },
  {
   "cell_type": "markdown",
   "metadata": {},
   "source": [
    "## Carga inicial de datos"
   ]
  },
  {
   "cell_type": "code",
   "execution_count": 47,
   "metadata": {
    "scrolled": false
   },
   "outputs": [
    {
     "name": "stdout",
     "output_type": "stream",
     "text": [
      "[nltk_data] Downloading package stopwords to /Users/jonas/nltk_data...\n",
      "[nltk_data]   Package stopwords is already up-to-date!\n",
      "[nltk_data] Downloading package vader_lexicon to\n",
      "[nltk_data]     /Users/jonas/nltk_data...\n",
      "[nltk_data]   Package vader_lexicon is already up-to-date!\n"
     ]
    }
   ],
   "source": [
    "import nltk\n",
    "nltk.download('stopwords')\n",
    "nltk.download('vader_lexicon')\n",
    "import pandas as pd\n",
    "from bs4 import BeautifulSoup\n",
    "import requests\n",
    "from requests_oauthlib import OAuth1\n",
    "from nltk.tokenize import TweetTokenizer\n",
    "from nltk.corpus import stopwords\n",
    "import string\n",
    "from pymongo import MongoClient\n",
    "from nltk.sentiment.vader import SentimentIntensityAnalyzer\n",
    "import matplotlib.pyplot as plt\n",
    "from sklearn.feature_extraction.text import TfidfVectorizer \n",
    "from sklearn.naive_bayes import MultinomialNB\n",
    "from sklearn.metrics import classification_report, confusion_matrix, accuracy_score \n",
    "from sklearn.model_selection import cross_val_predict\n",
    "import csv\n",
    "from nltk.tag import StanfordNERTagger\n",
    "import collections.abc\n",
    "import collections\n",
    "import re\n",
    "from collections import Counter\n",
    "consumer_key='ynSB0dFvqPl3xRU7AmYk39rGT'\n",
    "consumer_secret='6alIXTKSxf0RE57QK3fDQ8dxdvlsVr1IRsHDZmoSlMx96YKBFD'\n",
    "access_token='966591013182722049-BVXW14Hf5s6O2oIwS3vtJ3S3dOsKLbY'\n",
    "access_token_secret='829DTKPjmwsSytmp1ky9fMCJkjV0LZ04TbL9oqHGV6cDm'"
   ]
  },
  {
   "cell_type": "markdown",
   "metadata": {},
   "source": [
    "Parte en la que se importa las librerías necesarias."
   ]
  },
  {
   "cell_type": "code",
   "execution_count": 2,
   "metadata": {},
   "outputs": [],
   "source": [
    "q = 'premier league -filter:retweets AND -filter:replies'\n",
    "url = 'https://api.Twitter.com/1.1/search/tweets.json'\n",
    "pms = {'q' : q, 'count' : 100, 'lang' : 'en', 'result_type': 'recent'} \n",
    "auth = OAuth1(consumer_key, consumer_secret, access_token,access_token_secret)\n",
    "#res = requests.get(url, params = pms, auth=auth)\n",
    "#esta parte del código se utiliza realmente en la paginación"
   ]
  },
  {
   "cell_type": "markdown",
   "metadata": {},
   "source": [
    "Sección de código que realiza la consulta **q** mediante la api de twitter utilizando los parámetros **pms**. Después, se crea una variable **auth** que corresponde a los datos exigidos por la API para conectarse que son *Las claves y los tokens de acceso.*\n",
    "Por último se realiza la petición utilizando todos los datos necesarios por medio de una función de la librería requests **(request.get)** el resultado se vuelca en la variable **res**."
   ]
  },
  {
   "cell_type": "code",
   "execution_count": 3,
   "metadata": {},
   "outputs": [],
   "source": [
    "#tweets = res.json()\n",
    "#esta parte del código se utiliza realmente en la paginación"
   ]
  },
  {
   "cell_type": "markdown",
   "metadata": {},
   "source": [
    "Si la conección es correcta se recuperarán varios documentos que se pueden convertir a json. En el formato json es en el cual extraeremos la información que nos importa."
   ]
  },
  {
   "cell_type": "markdown",
   "metadata": {},
   "source": [
    "## Carga de datos para más de 100 tweets (Paginación)"
   ]
  },
  {
   "cell_type": "markdown",
   "metadata": {},
   "source": [
    "Como twitter te permite obtener hasta 100 tweets por llamada, si queremos recuperar más, necesitamos recordar los IDs de los tweets ya descargados para no repetir tweets en las siguientes llamadas. Esto es la paginación."
   ]
  },
  {
   "cell_type": "code",
   "execution_count": 4,
   "metadata": {},
   "outputs": [],
   "source": [
    "database_name = \"baseDeDatos\"\n",
    "collection_name = \"coleccion\"\n",
    "client = MongoClient('mongodb://localhost:27017/')\n",
    "db = client[database_name]\n",
    "collection = db[collection_name]"
   ]
  },
  {
   "cell_type": "markdown",
   "metadata": {},
   "source": [
    "**MongoDB** *es una base de datos NoSQL ágil orientado a documentos, esto significa que en lugar de guardar los datos en tablas como se hace en las bbdd relacionales, MongoDB guarda estructuras de datos en documentos similares a JSON con un esquema dinámico.*\n",
    "En nuestro caso importamos la librería para usar el cliente y creamos una base de datos y una colección a raíz de la base de datos. Ya cambiaré los nombres de **database_name** y **collection_name**. <font color='red'>falta establecer el nombre de la base de datos y el nombre de la colección</font>"
   ]
  },
  {
   "cell_type": "code",
   "execution_count": 5,
   "metadata": {},
   "outputs": [
    {
     "name": "stdout",
     "output_type": "stream",
     "text": [
      "Connection status: OK\n"
     ]
    }
   ],
   "source": [
    "pages_counter = 0\n",
    "number_of_pages = 1\n",
    "while pages_counter < number_of_pages:\n",
    "    pages_counter += 1\n",
    "    res = requests.get(url, params = pms, auth=auth)\n",
    "    print(\"Connection status: %s\" % res.reason)\n",
    "    tweets = res.json()\n",
    "    ids = [i['id'] for i in tweets['statuses']]\n",
    "    pms['max_id'] = min(ids) - 1\n",
    "    collection.insert_many(tweets['statuses'])"
   ]
  },
  {
   "cell_type": "markdown",
   "metadata": {},
   "source": [
    "El código para la paginación consiste en un bucle que se repetirá tantas veces como el número aproximado de tweets que queramos recuperar de twitter. Dentro del bucle se realiza la *consulta* (**requests.get**) y se guarda en la variable tweets con formato json (igual que se hacía antes de la paginación)\n",
    "Después, para implementar lo que es realmente la paginación; \n",
    "- Se recolectan todos los **ids** de los tweets recogidos mediante el **get**.\n",
    "- Se almacena en **i** todos los **ids** de todos los tweets.\n",
    "- Se establece en **pms** como el *id mayor*, el *id mínimo* de **i** -1 (porque se incluiría y después se duplica)\n",
    "- Por último se inserta en la base de datos (Con **insert_many**) todos los tweets que han sido recuperados en esta *ronda*"
   ]
  },
  {
   "cell_type": "code",
   "execution_count": 6,
   "metadata": {
    "scrolled": true
   },
   "outputs": [],
   "source": [
    "#client = MongoClient('mongodb://localhost:27017/')\n",
    "#db = client['db']\n",
    "#collection = db['collection']\n",
    "documents = []\n",
    "for doc in collection.find():\n",
    "    documents.append(doc)"
   ]
  },
  {
   "cell_type": "markdown",
   "metadata": {},
   "source": [
    "Lo que se hace a continuación es utilizar la base de datos de mongo en la que se ha estado almacenando los tweets para volcar la información de forma tabular, donde las columnas indican los nombres de los nodos del documento y las filas representan los datos.\n"
   ]
  },
  {
   "cell_type": "code",
   "execution_count": 7,
   "metadata": {},
   "outputs": [],
   "source": [
    "df = pd.DataFrame(documents)"
   ]
  },
  {
   "cell_type": "markdown",
   "metadata": {},
   "source": [
    "En este paso se crea un Dataframe usando la lista de documentos que hemos construido."
   ]
  },
  {
   "cell_type": "markdown",
   "metadata": {},
   "source": [
    "# Limpieza de datos"
   ]
  },
  {
   "cell_type": "markdown",
   "metadata": {},
   "source": [
    "Nos gustaría analizar los sentimientos de los tweets que son escritos por la gente desde sus diferentes dispositivos. Por lo tanto, debemos deshacernos de los tweets compuestos por bots, páginas web, servicios de envío automatizado, etc. No podemos identificar esos tweets al 100%, pero es bastante buena suposición sería seleccionar tweets publicados desde dispositivos físicos, es decir, iPhones, Teléfonos Android, ordenadores de sobremesa y portátiles. \n",
    "Los documentos de Twitter tienen una característica interesante, ya que mantienen la información sobre la fuente de la creación del tweet. Cada vez que alguien usa un dispositivo para componer un tweet, el se mantiene la información al respecto."
   ]
  },
  {
   "cell_type": "code",
   "execution_count": 8,
   "metadata": {
    "scrolled": false
   },
   "outputs": [
    {
     "name": "stderr",
     "output_type": "stream",
     "text": [
      "/Users/jonas/anaconda3/lib/python3.6/site-packages/bs4/__init__.py:181: UserWarning: No parser was explicitly specified, so I'm using the best available HTML parser for this system (\"lxml\"). This usually isn't a problem, but if you run this code on another system, or in a different virtual environment, it may use a different parser and behave differently.\n",
      "\n",
      "The code that caused this warning is on line 193 of the file /Users/jonas/anaconda3/lib/python3.6/runpy.py. To get rid of this warning, change code that looks like this:\n",
      "\n",
      " BeautifulSoup(YOUR_MARKUP})\n",
      "\n",
      "to this:\n",
      "\n",
      " BeautifulSoup(YOUR_MARKUP, \"lxml\")\n",
      "\n",
      "  markup_type=markup_type))\n"
     ]
    }
   ],
   "source": [
    "df['tweet_source'] = df['source'].apply(lambda x: BeautifulSoup(x).get_text())"
   ]
  },
  {
   "cell_type": "markdown",
   "metadata": {},
   "source": [
    "Con esta linea de código vamos a crear una nueva columna en el data Frame df que se llama tweet_source y ahí vamos a poner lo que había en la columna source pero con la información que necesitamos, es decir, la fuente del tweet.\n",
    "Ahora bien, sólo nos interesan los dispositivos. La información sobre los dispositivos es muy clara: encontraremos fuentes de tweets como Twitter para iPhone, Twitter para Android, Twitter Web Client, Twitter para BlackBerry, Twitter para Mac, Twitter para Windows, etc. Los nombres de los dispositivos comienzan con la palabra \"Twitter\". Utilizaremos esta propiedad para abordar nuestra segunda cuestión."
   ]
  },
  {
   "cell_type": "code",
   "execution_count": 9,
   "metadata": {},
   "outputs": [],
   "source": [
    "devices = list(set(df[df['tweet_source'].str.startswith('Twitter')]['tweet_source']))"
   ]
  },
  {
   "cell_type": "markdown",
   "metadata": {},
   "source": [
    "De esta manera se extrae en la variable devices todas las fuentes de los tweets que comiencen por Twitter, es decir, todas las que vienen de dispositivos."
   ]
  },
  {
   "cell_type": "code",
   "execution_count": 10,
   "metadata": {},
   "outputs": [],
   "source": [
    "devices.remove('Twitter Ads')\n",
    "df = df[df['tweet_source'].isin(devices)]"
   ]
  },
  {
   "cell_type": "markdown",
   "metadata": {},
   "source": [
    "Quitamos de la lista de dispositivos todos aquellos que sean anuncios de Twitter y dejamos en el data frame sólamente aquellos twits cuya fuente sea la misma que la que tenemos en devices."
   ]
  },
  {
   "cell_type": "code",
   "execution_count": 11,
   "metadata": {},
   "outputs": [],
   "source": [
    "df = df[~df['text'].str.contains(\"Ghana|ghana|jamaica|Jamaica|Ladbrokes|India|Pa kistan|Ghana Premier League|Vijay|Predictions|Egyptian Premier League|cricket|Kings|Caribbean Premier League|@cricbuzz|Cricinfo\")]"
   ]
  },
  {
   "cell_type": "markdown",
   "metadata": {},
   "source": [
    "En este punto lo que se hace en el libro (quizá yo no tenga que hacerlo) es eliminar la posibilidad de que salgan twits de Premiere League que no sea la inglesa. Hay otras Premiere League que no interesa para el estudio del libro y se quita mediante esta función utilizando las palabras clave que necesitemos. Toda esta búsqueda para la limpieza se realiza en el campo text de df (df.text)\n",
    "El código dice, en esencia, mantiene todas las filas que NO (~) tengan en la columa \"text\" las siguientes palabras (| es el operador lógico OR)"
   ]
  },
  {
   "cell_type": "code",
   "execution_count": 12,
   "metadata": {},
   "outputs": [],
   "source": [
    "#TOKENIZATION\n",
    "df['tokens'] = df['text'].apply(TweetTokenizer().tokenize)\n",
    "#STOPWORDS\n",
    "stopwords_vocabulary = stopwords.words('english') #estará en español?\n",
    "df['stopwords'] = df['tokens'].apply(lambda x: [i for i in x if i.lower() not in stopwords_vocabulary])\n",
    "#SPECIAL CHARACTERS AND STOPWORDS REMOVAL\n",
    "punctuations = list(string.punctuation)\n",
    "df['punctuation'] = df['stopwords'].apply(lambda x: [i for i in x if i not in punctuations])\n",
    "df['digits'] = df['punctuation'].apply(lambda x: [i for i in x if i[0] not in list(string.digits)])\n",
    "df['final'] = df['digits'].apply(lambda x: [i for i in x if len(i) > 1])"
   ]
  },
  {
   "cell_type": "markdown",
   "metadata": {},
   "source": [
    "# Análisis de Sentimientos\n",
    "Utilizaremos VADER para analizar los sentimientos de los datos que hemos recibido."
   ]
  },
  {
   "cell_type": "code",
   "execution_count": 13,
   "metadata": {},
   "outputs": [],
   "source": [
    "#importamos las librerías que necesitamos\n",
    "sentiment = SentimentIntensityAnalyzer()\n",
    "df['sentiment'] = df.text.apply(lambda x: sentiment.polarity_scores(x)['compound'])"
   ]
  },
  {
   "cell_type": "code",
   "execution_count": 14,
   "metadata": {},
   "outputs": [
    {
     "data": {
      "image/png": "[encoded data removed]",
      "text/plain": [
       "<matplotlib.figure.Figure at 0x1a1aa80358>"
      ]
     },
     "metadata": {},
     "output_type": "display_data"
    }
   ],
   "source": [
    "pos = len(df[df.sentiment > 0]) #guardamos la cantidad de tweets positivos\n",
    "neg = len(df[df.sentiment < 0]) #guardamos la cantidad de tweets negativos\n",
    "neu = len(df[df.sentiment == 0]) #guardamos la cantidad de tweets neutros\n",
    "y = [pos, neu, neg] # vector de la cantidad de tweets positivos, negativos y neutros\n",
    "#construimos un gráfico con los datos del vector\n",
    "plt.title(\"Sentiment Analysis\")\n",
    "plt.ylabel('Number of tweets')\n",
    "plt.xticks(range(len(y)), ['positive', 'neutral', 'negative'])\n",
    "plt.bar(range(len(y)), height=y, width = 0.75, align = 'center', alpha = 0.8)\n",
    "plt.show()"
   ]
  },
  {
   "cell_type": "markdown",
   "metadata": {},
   "source": [
    "# Etiquetado de los datos"
   ]
  },
  {
   "cell_type": "code",
   "execution_count": 52,
   "metadata": {},
   "outputs": [
    {
     "name": "stdout",
     "output_type": "stream",
     "text": [
      "1. Carga de archivos realizada\n",
      "2. Limpieza del dataset realizada\n",
      "3. Limpieza del dataset2 realizada\n"
     ]
    }
   ],
   "source": [
    "classes = ['4', '2', '0']\n",
    "\n",
    "filename = 'testdata.manual.2009.06.14.csv'\n",
    "filename2 = 'training.1600000.processed.noemoticon.csv'\n",
    "dataset = pd.read_csv(filename)\n",
    "tweets = dataset['final'][0:20]\n",
    "dataset2 = pd.read_csv(filename2)\n",
    "print(\"1. Carga de archivos realizada\")\n",
    "\n",
    "#LIMPIEZA DE DATOS DE DATASET\n",
    "#TOKENIZATION\n",
    "dataset['tokens'] = dataset['final'].apply(TweetTokenizer().tokenize)\n",
    "#STOPWORDS\n",
    "stopwords_vocabulary = stopwords.words('english') #estará en español?\n",
    "dataset['stopwords'] = dataset['tokens'].apply(lambda x: [i for i in x if i.lower() not in stopwords_vocabulary])\n",
    "#SPECIAL CHARACTERS AND STOPWORDS REMOVAL\n",
    "punctuations = list(string.punctuation)\n",
    "dataset['punctuation'] = dataset['stopwords'].apply(lambda x: [i for i in x if i not in punctuations])\n",
    "dataset['digits'] = dataset['punctuation'].apply(lambda x: [i for i in x if i[0] not in list(string.digits)])\n",
    "dataset['final'] = dataset['digits'].apply(lambda x: [i for i in x if len(i) > 1])\n",
    "print(\"2. Limpieza del dataset realizada\")\n",
    "\n",
    "#LIMPIEZA DE DATOS DE DATASET2\n",
    "#TOKENIZATION\n",
    "dataset2['tokens'] = dataset2['final'].apply(TweetTokenizer().tokenize)\n",
    "#STOPWORDS\n",
    "stopwords_vocabulary = stopwords.words('english') #estará en español?\n",
    "dataset2['stopwords'] = dataset2['tokens'].apply(lambda x: [i for i in x if i.lower() not in stopwords_vocabulary])\n",
    "#SPECIAL CHARACTERS AND STOPWORDS REMOVAL\n",
    "punctuations = list(string.punctuation)\n",
    "dataset2['punctuation'] = dataset2['stopwords'].apply(lambda x: [i for i in x if i not in punctuations])\n",
    "dataset2['digits'] = dataset2['punctuation'].apply(lambda x: [i for i in x if i[0] not in list(string.digits)])\n",
    "dataset2['final'] = dataset2['digits'].apply(lambda x: [i for i in x if len(i) > 1])\n",
    "print(\"3. Limpieza del dataset2 realizada\")\n",
    "\n",
    "train_data = dataset2['final'][0:2000]\n",
    "train_labels = dataset2['label'][0:2000]\n",
    "\n",
    "test_data = dataset['final'][0:400]\n",
    "test_labels = dataset['label'][0:400]\n",
    "\n",
    "train_data = list(train_data.apply(' '.join))\n",
    "test_data = list(test_data.apply(' '.join))"
   ]
  },
  {
   "cell_type": "markdown",
   "metadata": {},
   "source": [
    "# Creación del modelo\n",
    "Concretamente para un modelo de Naive Bayes"
   ]
  },
  {
   "cell_type": "code",
   "execution_count": 35,
   "metadata": {},
   "outputs": [
    {
     "data": {
      "text/plain": [
       "0.375"
      ]
     },
     "execution_count": 35,
     "metadata": {},
     "output_type": "execute_result"
    }
   ],
   "source": [
    "vectorizer = TfidfVectorizer(min_df=5, max_df = 0.8, sublinear_tf=True, use_idf=True)\n",
    "#min_df = 5. Descarta palabras que aparezcan en menos de 5 tweets.\n",
    "#max_df = 0.8 Descarta palabras que aparezcan en más del 80% de los tweets\n",
    "#sublinear_tf = True Le da una importancia logarítmica a la repetición de palabras\n",
    "#use_idf = True Permite la frecuencia inversa del documento ???\n",
    "train_vectors = vectorizer.fit_transform(train_data)\n",
    "test_vectors = vectorizer.transform(test_data)\n",
    "nb = MultinomialNB()\n",
    "nb.fit(train_vectors, train_labels).score(test_vectors, test_labels)"
   ]
  },
  {
   "cell_type": "code",
   "execution_count": 36,
   "metadata": {
    "scrolled": true
   },
   "outputs": [
    {
     "name": "stdout",
     "output_type": "stream",
     "text": [
      "Naive Bayes\n",
      "             precision    recall  f1-score   support\n",
      "\n",
      "          0       0.38      1.00      0.55       150\n",
      "          2       0.00      0.00      0.00        94\n",
      "          4       0.00      0.00      0.00       156\n",
      "\n",
      "avg / total       0.14      0.38      0.20       400\n",
      "\n",
      "[[150   0   0]\n",
      " [ 94   0   0]\n",
      " [156   0   0]]\n",
      "Cross validation 0.9934967483741871\n"
     ]
    },
    {
     "name": "stderr",
     "output_type": "stream",
     "text": [
      "/Users/jonas/anaconda3/lib/python3.6/site-packages/sklearn/metrics/classification.py:1135: UndefinedMetricWarning: Precision and F-score are ill-defined and being set to 0.0 in labels with no predicted samples.\n",
      "  'precision', 'predicted', average, warn_for)\n",
      "/Users/jonas/anaconda3/lib/python3.6/site-packages/sklearn/model_selection/_split.py:605: Warning: The least populated class in y has only 4 members, which is too few. The minimum number of members in any class cannot be less than n_splits=10.\n",
      "  % (min_groups, self.n_splits)), Warning)\n"
     ]
    }
   ],
   "source": [
    "print(\"Naive Bayes\")\n",
    "print(classification_report(test_labels, nb.predict(test_vectors)))\n",
    "print(confusion_matrix(test_labels, nb.predict(test_vectors)))\n",
    "predicted = cross_val_predict(nb, train_vectors, train_labels, cv=10)\n",
    "print(\"Cross validation %s\" % accuracy_score(train_labels, predicted))"
   ]
  },
  {
   "cell_type": "markdown",
   "metadata": {},
   "source": [
    "# NER Name Entity Recognition\n",
    "En la siguiente sección implementamos el reconocimiento de entidades. Es muy lento, así que vamos a tener que ver cómo acelerar el proceso."
   ]
  },
  {
   "cell_type": "code",
   "execution_count": 53,
   "metadata": {
    "scrolled": false
   },
   "outputs": [
    {
     "name": "stderr",
     "output_type": "stream",
     "text": [
      "/Users/jonas/anaconda3/lib/python3.6/site-packages/nltk/tag/stanford.py:183: DeprecationWarning: \n",
      "The StanfordTokenizer will be deprecated in version 3.2.5.\n",
      "Please use \u001b[91mnltk.tag.corenlp.CoreNLPPOSTagger\u001b[0m or \u001b[91mnltk.tag.corenlp.CoreNLPNERTagger\u001b[0m instead.\n",
      "  super(StanfordNERTagger, self).__init__(*args, **kwargs)\n"
     ]
    },
    {
     "name": "stdout",
     "output_type": "stream",
     "text": [
      "está analizando(r):  ['@stellargirl', 'loooooooovvvvvveee', 'Kindle', 'DX', 'cool', 'fantastic', 'right']\n",
      "está analizando(tup):  ('@stellargirl', 'O')\n",
      "está analizando(tup):  ('loooooooovvvvvveee', 'O')\n",
      "está analizando(tup):  ('Kindle', 'O')\n",
      "está analizando(tup):  ('DX', 'O')\n",
      "está analizando(tup):  ('cool', 'O')\n",
      "está analizando(tup):  ('fantastic', 'O')\n",
      "está analizando(tup):  ('right', 'O')\n",
      "está analizando(r):  ['Reading', 'kindle', '...', 'Love', '...', 'Lee', 'childs', 'good', 'read']\n",
      "está analizando(tup):  ('Reading', 'O')\n",
      "está analizando(tup):  ('kindle', 'O')\n",
      "está analizando(tup):  ('...', 'O')\n",
      "está analizando(tup):  ('Love', 'O')\n",
      "está analizando(tup):  ('...', 'O')\n",
      "está analizando(tup):  ('Lee', 'PERSON')\n",
      "mete(tup)  ('Lee', 'PERSON') en las entidades\n",
      "está analizando(tup):  ('childs', 'O')\n",
      "está analizando(tup):  ('good', 'O')\n",
      "está analizando(tup):  ('read', 'O')\n",
      "está analizando(r):  ['Ok', 'first', 'assesment', '#kindle2', '...', 'fucking', 'rocks']\n",
      "está analizando(tup):  ('Ok', 'O')\n",
      "está analizando(tup):  ('first', 'O')\n",
      "está analizando(tup):  ('assesment', 'O')\n",
      "está analizando(tup):  ('#kindle2', 'O')\n",
      "está analizando(tup):  ('...', 'O')\n",
      "está analizando(tup):  ('fucking', 'O')\n",
      "está analizando(tup):  ('rocks', 'O')\n",
      "está analizando(r):  ['@kenburbary', 'love', 'Kindle', \"I've\", 'mine', 'months', 'never', 'looked', 'back', 'new', 'big', 'one', 'huge', 'need', 'remorse', ':)']\n",
      "está analizando(tup):  ('@kenburbary', 'O')\n",
      "está analizando(tup):  ('love', 'O')\n",
      "está analizando(tup):  ('Kindle', 'O')\n",
      "está analizando(tup):  (\"I've\", 'O')\n",
      "está analizando(tup):  ('mine', 'O')\n",
      "está analizando(tup):  ('months', 'O')\n",
      "está analizando(tup):  ('never', 'O')\n",
      "está analizando(tup):  ('looked', 'O')\n",
      "está analizando(tup):  ('back', 'O')\n",
      "está analizando(tup):  ('new', 'O')\n",
      "está analizando(tup):  ('big', 'O')\n",
      "está analizando(tup):  ('one', 'O')\n",
      "está analizando(tup):  ('huge', 'O')\n",
      "está analizando(tup):  ('need', 'O')\n",
      "está analizando(tup):  ('remorse', 'O')\n",
      "está analizando(tup):  (':)', 'O')\n",
      "está analizando(r):  ['@mikefish', 'Fair', 'enough', 'Kindle', 'think', 'perfect', ':)']\n",
      "está analizando(tup):  ('@mikefish', 'O')\n",
      "está analizando(tup):  ('Fair', 'O')\n",
      "está analizando(tup):  ('enough', 'O')\n",
      "está analizando(tup):  ('Kindle', 'O')\n",
      "está analizando(tup):  ('think', 'O')\n",
      "está analizando(tup):  ('perfect', 'O')\n",
      "está analizando(tup):  (':)', 'O')\n",
      "está analizando(r):  ['@richardebaker', 'big', \"I'm\", 'quite', 'happy', 'Kindle']\n",
      "está analizando(tup):  ('@richardebaker', 'O')\n",
      "está analizando(tup):  ('big', 'O')\n",
      "está analizando(tup):  (\"I'm\", 'O')\n",
      "está analizando(tup):  ('quite', 'O')\n",
      "está analizando(tup):  ('happy', 'O')\n",
      "está analizando(tup):  ('Kindle', 'O')\n",
      "está analizando(r):  ['Fuck', 'economy', 'hate', 'aig', 'non', 'loan', 'given', 'asses']\n",
      "está analizando(tup):  ('Fuck', 'O')\n",
      "está analizando(tup):  ('economy', 'O')\n",
      "está analizando(tup):  ('hate', 'O')\n",
      "está analizando(tup):  ('aig', 'O')\n",
      "está analizando(tup):  ('non', 'O')\n",
      "está analizando(tup):  ('loan', 'O')\n",
      "está analizando(tup):  ('given', 'O')\n",
      "está analizando(tup):  ('asses', 'O')\n",
      "está analizando(r):  ['Jquery', 'new', 'best', 'friend']\n",
      "está analizando(tup):  ('Jquery', 'O')\n",
      "está analizando(tup):  ('new', 'O')\n",
      "está analizando(tup):  ('best', 'O')\n",
      "está analizando(tup):  ('friend', 'O')\n",
      "está analizando(r):  ['Loves', 'twitter']\n",
      "está analizando(tup):  ('Loves', 'O')\n",
      "está analizando(tup):  ('twitter', 'O')\n",
      "está analizando(r):  ['love', 'Obama', 'makes', 'jokes']\n",
      "está analizando(tup):  ('love', 'O')\n",
      "está analizando(tup):  ('Obama', 'PERSON')\n",
      "mete(tup)  ('Obama', 'PERSON') en las entidades\n",
      "está analizando(tup):  ('makes', 'O')\n",
      "está analizando(tup):  ('jokes', 'O')\n",
      "está analizando(r):  ['Check', 'video', 'President', 'Obama', 'White', 'House', 'Correspondents', 'Dinner', 'http://bit.ly/IMXUM']\n",
      "está analizando(tup):  ('Check', 'O')\n",
      "está analizando(tup):  ('video', 'O')\n",
      "está analizando(tup):  ('President', 'O')\n",
      "está analizando(tup):  ('Obama', 'PERSON')\n",
      "mete(tup)  ('Obama', 'PERSON') en las entidades\n",
      "está analizando(tup):  ('White', 'ORGANIZATION')\n",
      "mete(tup)  ('White', 'ORGANIZATION') en las entidades\n",
      "está analizando(tup):  ('House', 'ORGANIZATION')\n",
      "mete(tup)  ('House', 'ORGANIZATION') en las entidades\n",
      "está analizando(tup):  ('Correspondents', 'O')\n",
      "está analizando(tup):  ('Dinner', 'O')\n",
      "está analizando(tup):  ('http:bit.lyIMXUM', 'O')\n",
      "está analizando(r):  ['@Karoli', 'firmly', 'believe', 'Obama', 'Pelosi', 'ZERO', 'desire', 'civil', 'charade', 'slogan', 'want', 'destroy', 'conservatism']\n",
      "está analizando(tup):  ('@Karoli', 'O')\n",
      "está analizando(tup):  ('firmly', 'O')\n",
      "está analizando(tup):  ('believe', 'O')\n",
      "está analizando(tup):  ('Obama', 'PERSON')\n",
      "mete(tup)  ('Obama', 'PERSON') en las entidades\n",
      "está analizando(tup):  ('Pelosi', 'PERSON')\n",
      "mete(tup)  ('Pelosi', 'PERSON') en las entidades\n",
      "está analizando(tup):  ('ZERO', 'O')\n",
      "está analizando(tup):  ('desire', 'O')\n",
      "está analizando(tup):  ('civil', 'O')\n",
      "está analizando(tup):  ('charade', 'O')\n",
      "está analizando(tup):  ('slogan', 'O')\n",
      "está analizando(tup):  ('want', 'O')\n",
      "está analizando(tup):  ('destroy', 'O')\n",
      "está analizando(tup):  ('conservatism', 'O')\n",
      "está analizando(r):  ['House', 'Correspondents', 'dinner', 'last', 'night', 'whoopi', 'barbara', 'sherri', 'went', 'Obama', 'got', 'standing', 'ovation']\n",
      "está analizando(tup):  ('House', 'ORGANIZATION')\n",
      "mete(tup)  ('House', 'ORGANIZATION') en las entidades\n",
      "está analizando(tup):  ('Correspondents', 'O')\n",
      "está analizando(tup):  ('dinner', 'O')\n",
      "está analizando(tup):  ('last', 'O')\n",
      "está analizando(tup):  ('night', 'O')\n",
      "está analizando(tup):  ('whoopi', 'O')\n",
      "está analizando(tup):  ('barbara', 'PERSON')\n",
      "mete(tup)  ('barbara', 'PERSON') en las entidades\n",
      "está analizando(tup):  ('sherri', 'PERSON')\n",
      "mete(tup)  ('sherri', 'PERSON') en las entidades\n",
      "está analizando(tup):  ('went', 'O')\n",
      "está analizando(tup):  ('Obama', 'PERSON')\n",
      "mete(tup)  ('Obama', 'PERSON') en las entidades\n",
      "está analizando(tup):  ('got', 'O')\n",
      "está analizando(tup):  ('standing', 'O')\n",
      "está analizando(tup):  ('ovation', 'O')\n",
      "está analizando(r):  ['Watchin', 'Espn', '..', 'Jus', 'seen', 'new', 'Nike', 'Commerical', 'Puppet', 'Lebron', '..', 'sh', 'hilarious', '...', 'LMAO']\n",
      "está analizando(tup):  ('Watchin', 'PERSON')\n",
      "mete(tup)  ('Watchin', 'PERSON') en las entidades\n",
      "está analizando(tup):  ('Espn', 'PERSON')\n",
      "mete(tup)  ('Espn', 'PERSON') en las entidades\n",
      "está analizando(tup):  ('..', 'O')\n",
      "está analizando(tup):  ('Jus', 'O')\n",
      "está analizando(tup):  ('seen', 'O')\n",
      "está analizando(tup):  ('new', 'O')\n",
      "está analizando(tup):  ('Nike', 'ORGANIZATION')\n",
      "mete(tup)  ('Nike', 'ORGANIZATION') en las entidades\n",
      "está analizando(tup):  ('Commerical', 'ORGANIZATION')\n",
      "mete(tup)  ('Commerical', 'ORGANIZATION') en las entidades\n",
      "está analizando(tup):  ('Puppet', 'ORGANIZATION')\n",
      "mete(tup)  ('Puppet', 'ORGANIZATION') en las entidades\n",
      "está analizando(tup):  ('Lebron', 'ORGANIZATION')\n",
      "mete(tup)  ('Lebron', 'ORGANIZATION') en las entidades\n",
      "está analizando(tup):  ('..', 'O')\n",
      "está analizando(tup):  ('sh', 'O')\n",
      "está analizando(tup):  ('hilarious', 'O')\n",
      "está analizando(tup):  ('...', 'O')\n",
      "está analizando(tup):  ('LMAO', 'O')\n",
      "está analizando(r):  ['dear', 'nike', 'stop', 'flywire', 'shit', 'waste', 'science', 'ugly', 'love', '@vincentx24x']\n",
      "está analizando(tup):  ('dear', 'O')\n",
      "está analizando(tup):  ('nike', 'O')\n",
      "está analizando(tup):  ('stop', 'O')\n",
      "está analizando(tup):  ('flywire', 'O')\n",
      "está analizando(tup):  ('shit', 'O')\n",
      "está analizando(tup):  ('waste', 'O')\n",
      "está analizando(tup):  ('science', 'O')\n",
      "está analizando(tup):  ('ugly', 'O')\n",
      "está analizando(tup):  ('love', 'O')\n",
      "está analizando(tup):  ('@vincentx24x', 'O')\n",
      "está analizando(r):  ['#lebron', 'best', 'athlete', 'generation', 'time', 'basketball', 'related', 'want', 'get', 'inter-sport', 'debates', '__1']\n",
      "está analizando(tup):  ('#lebron', 'O')\n",
      "está analizando(tup):  ('best', 'O')\n",
      "está analizando(tup):  ('athlete', 'O')\n",
      "está analizando(tup):  ('generation', 'O')\n",
      "está analizando(tup):  ('time', 'O')\n",
      "está analizando(tup):  ('basketball', 'O')\n",
      "está analizando(tup):  ('related', 'O')\n",
      "está analizando(tup):  ('want', 'O')\n",
      "está analizando(tup):  ('get', 'O')\n",
      "está analizando(tup):  ('inter-sport', 'O')\n",
      "está analizando(tup):  ('debates', 'O')\n",
      "está analizando(tup):  ('__1', 'O')\n",
      "está analizando(r):  ['talking', 'guy', 'last', 'night', 'telling', 'die', 'hard', 'Spurs', 'fan', 'also', 'told', 'hates', 'LeBron', 'James']\n"
     ]
    },
    {
     "name": "stdout",
     "output_type": "stream",
     "text": [
      "está analizando(tup):  ('talking', 'O')\n",
      "está analizando(tup):  ('guy', 'O')\n",
      "está analizando(tup):  ('last', 'O')\n",
      "está analizando(tup):  ('night', 'O')\n",
      "está analizando(tup):  ('telling', 'O')\n",
      "está analizando(tup):  ('die', 'O')\n",
      "está analizando(tup):  ('hard', 'O')\n",
      "está analizando(tup):  ('Spurs', 'ORGANIZATION')\n",
      "mete(tup)  ('Spurs', 'ORGANIZATION') en las entidades\n",
      "está analizando(tup):  ('fan', 'O')\n",
      "está analizando(tup):  ('also', 'O')\n",
      "está analizando(tup):  ('told', 'O')\n",
      "está analizando(tup):  ('hates', 'O')\n",
      "está analizando(tup):  ('LeBron', 'PERSON')\n",
      "mete(tup)  ('LeBron', 'PERSON') en las entidades\n",
      "está analizando(tup):  ('James', 'PERSON')\n",
      "mete(tup)  ('James', 'PERSON') en las entidades\n",
      "está analizando(r):  ['love', 'lebron', 'http://bit.ly/PdHur']\n",
      "está analizando(tup):  ('love', 'O')\n",
      "está analizando(tup):  ('lebron', 'O')\n",
      "está analizando(tup):  ('http:bit.lyPdHur', 'O')\n",
      "está analizando(r):  ['@ludajuice', 'Lebron', 'Beast', \"I'm\", 'still', 'cheering', '..', 'til', 'end']\n",
      "está analizando(tup):  ('@ludajuice', 'O')\n",
      "está analizando(tup):  ('Lebron', 'O')\n",
      "está analizando(tup):  ('Beast', 'O')\n",
      "está analizando(tup):  (\"I'm\", 'O')\n",
      "está analizando(tup):  ('still', 'O')\n",
      "está analizando(tup):  ('cheering', 'O')\n",
      "está analizando(tup):  ('..', 'O')\n",
      "está analizando(tup):  ('til', 'O')\n",
      "está analizando(tup):  ('end', 'O')\n",
      "está analizando(r):  ['@Pmillzz', 'lebron', 'BOSS']\n",
      "está analizando(tup):  ('@Pmillzz', 'O')\n",
      "está analizando(tup):  ('lebron', 'O')\n",
      "está analizando(tup):  ('BOSS', 'O')\n"
     ]
    },
    {
     "data": {
      "text/plain": [
       "[('House', 2),\n",
       " ('White', 1),\n",
       " ('Nike', 1),\n",
       " ('Commerical', 1),\n",
       " ('Puppet', 1),\n",
       " ('Lebron', 1),\n",
       " ('Spurs', 1)]"
      ]
     },
     "execution_count": 53,
     "metadata": {},
     "output_type": "execute_result"
    }
   ],
   "source": [
    "st = StanfordNERTagger('/Users/jonas/stanford-ner-2018-02-27/classifiers/english.all.3class.distsim.crf.ser.gz')\n",
    "entities = []\n",
    "\n",
    "for r in tweets:\n",
    "    print(\"está analizando(r): \", r)\n",
    "    lst_tags = st.tag(r) #no tengo que hacer el split porque ya está hecho?\n",
    "    for tup in lst_tags:\n",
    "        print(\"está analizando(tup): \", tup)\n",
    "        if(tup[1] != 'O'):\n",
    "            print(\"mete(tup) \", tup, \"en las entidades\")\n",
    "            entities.append(tup)\n",
    "df_entities = pd.DataFrame(entities)\n",
    "df_entities.columns = [\"word\",\"ner\"]\n",
    "#Organizaciones\n",
    "organizations =df_entities[df_entities['ner'].str.contains(\"ORGANIZATION\")]\n",
    "cnt = Counter(organizations['word'])\n",
    "cnt.most_common(10)\n",
    "\n",
    "\n",
    "# 1. Coger datos de twitter.\n",
    "# 2. Cargar un csv con datos y verlo en una gráfica y usar NER.\n",
    "# 3. Tweet por tweet determinar de qué está hablando y el sentimiento.\n",
    "\n",
    "\n",
    "# pickle import dump y load\n",
    "# dump para guardar el modelo (nb)"
   ]
  },
  {
   "cell_type": "code",
   "execution_count": 55,
   "metadata": {},
   "outputs": [
    {
     "data": {
      "text/plain": [
       "[('Obama', 4),\n",
       " ('Lee', 1),\n",
       " ('Pelosi', 1),\n",
       " ('barbara', 1),\n",
       " ('sherri', 1),\n",
       " ('Watchin', 1),\n",
       " ('Espn', 1),\n",
       " ('LeBron', 1),\n",
       " ('James', 1)]"
      ]
     },
     "execution_count": 55,
     "metadata": {},
     "output_type": "execute_result"
    }
   ],
   "source": [
    "#Personas\n",
    "person =df_entities[df_entities['ner'].str.contains(\"PERSON\")]\n",
    "cnt = Counter(person['word'])\n",
    "cnt.most_common(10)"
   ]
  },
  {
   "cell_type": "code",
   "execution_count": 56,
   "metadata": {},
   "outputs": [
    {
     "data": {
      "text/plain": [
       "[]"
      ]
     },
     "execution_count": 56,
     "metadata": {},
     "output_type": "execute_result"
    }
   ],
   "source": [
    "#Localizaciones\n",
    "locations =df_entities[df_entities['ner'].str.contains(\"LOCATION\")]\n",
    "cnt = Counter(locations['word'])\n",
    "cnt.most_common(10)"
   ]
  },
  {
   "cell_type": "code",
   "execution_count": null,
   "metadata": {},
   "outputs": [],
   "source": []
  }
 ],
 "metadata": {
  "kernelspec": {
   "display_name": "Python 3",
   "language": "python",
   "name": "python3"
  },
  "language_info": {
   "codemirror_mode": {
    "name": "ipython",
    "version": 3
   },
   "file_extension": ".py",
   "mimetype": "text/x-python",
   "name": "python",
   "nbconvert_exporter": "python",
   "pygments_lexer": "ipython3",
   "version": "3.6.4"
  }
 },
 "nbformat": 4,
 "nbformat_minor": 2
}
