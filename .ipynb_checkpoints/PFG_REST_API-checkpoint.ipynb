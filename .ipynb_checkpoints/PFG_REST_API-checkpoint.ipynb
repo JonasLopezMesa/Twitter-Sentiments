{
 "cells": [
  {
   "cell_type": "markdown",
   "metadata": {},
   "source": [
    "# REST API Search Endpoint"
   ]
  },
  {
   "cell_type": "markdown",
   "metadata": {},
   "source": [
    "Método de consulta de tweets históricos (hasta una semana) basándose en varios criterios, es muy adecuado para un análisis estático."
   ]
  },
  {
   "cell_type": "markdown",
   "metadata": {},
   "source": [
    "## Carga inicial de datos"
   ]
  },
  {
   "cell_type": "code",
   "execution_count": 1,
   "metadata": {
    "scrolled": false
   },
   "outputs": [
    {
     "name": "stdout",
     "output_type": "stream",
     "text": [
      "[nltk_data] Downloading package stopwords to C:\\Users\\Servicio\n",
      "[nltk_data]     Técnico\\AppData\\Roaming\\nltk_data...\n",
      "[nltk_data]   Package stopwords is already up-to-date!\n",
      "[nltk_data] Downloading package vader_lexicon to C:\\Users\\Servicio\n",
      "[nltk_data]     Técnico\\AppData\\Roaming\\nltk_data...\n",
      "[nltk_data]   Package vader_lexicon is already up-to-date!\n"
     ]
    },
    {
     "name": "stderr",
     "output_type": "stream",
     "text": [
      "C:\\Anaconda\\lib\\site-packages\\nltk\\twitter\\__init__.py:20: UserWarning: The twython library has not been installed. Some functionality from the twitter package will not be available.\n",
      "  warnings.warn(\"The twython library has not been installed. \"\n"
     ]
    }
   ],
   "source": [
    "import nltk\n",
    "nltk.download('stopwords')\n",
    "nltk.download('vader_lexicon')\n",
    "import pandas as pd\n",
    "from bs4 import BeautifulSoup\n",
    "import requests\n",
    "from requests_oauthlib import OAuth1\n",
    "from nltk.tokenize import TweetTokenizer\n",
    "from nltk.corpus import stopwords\n",
    "import string\n",
    "from pymongo import MongoClient\n",
    "from nltk.sentiment.vader import SentimentIntensityAnalyzer\n",
    "import matplotlib.pyplot as plt\n",
    "from sklearn.feature_extraction.text import TfidfVectorizer \n",
    "from sklearn.naive_bayes import MultinomialNB\n",
    "from sklearn.metrics import classification_report, confusion_matrix, accuracy_score \n",
    "from sklearn.model_selection import cross_val_predict\n",
    "#para los otros tipos de algoritmos:\n",
    "from sklearn.svm import SVC #Support Vector Classification\n",
    "from sklearn.neighbors import KNeighborsClassifier\n",
    "from sklearn.tree import DecisionTreeClassifier\n",
    "from sklearn.neural_network import MLPClassifier\n",
    "#########################################\n",
    "#Para importar y exportar el algoritmo entrenado\n",
    "from pickle import dump\n",
    "from pickle import load\n",
    "#########################################\n",
    "import csv\n",
    "from nltk.tag import StanfordNERTagger\n",
    "import collections.abc\n",
    "import collections\n",
    "import re\n",
    "from collections import Counter\n",
    "import numpy as np\n",
    "consumer_key='ynSB0dFvqPl3xRU7AmYk39rGT'\n",
    "consumer_secret='6alIXTKSxf0RE57QK3fDQ8dxdvlsVr1IRsHDZmoSlMx96YKBFD'\n",
    "access_token='966591013182722049-BVXW14Hf5s6O2oIwS3vtJ3S3dOsKLbY'\n",
    "access_token_secret='829DTKPjmwsSytmp1ky9fMCJkjV0LZ04TbL9oqHGV6cDm'"
   ]
  },
  {
   "cell_type": "markdown",
   "metadata": {},
   "source": [
    "Parte en la que se importa las librerías necesarias."
   ]
  },
  {
   "cell_type": "code",
   "execution_count": 2,
   "metadata": {},
   "outputs": [],
   "source": [
    "q = 'premier league -filter:retweets AND -filter:replies'\n",
    "url = 'https://api.Twitter.com/1.1/search/tweets.json'\n",
    "pms = {'q' : q, 'count' : 100, 'lang' : 'en', 'result_type': 'recent'} \n",
    "auth = OAuth1(consumer_key, consumer_secret, access_token,access_token_secret)\n",
    "#res = requests.get(url, params = pms, auth=auth)\n",
    "#esta parte del código se utiliza realmente en la paginación"
   ]
  },
  {
   "cell_type": "markdown",
   "metadata": {},
   "source": [
    "Sección de código que realiza la consulta **q** mediante la api de twitter utilizando los parámetros **pms**. Después, se crea una variable **auth** que corresponde a los datos exigidos por la API para conectarse que son *Las claves y los tokens de acceso.*\n",
    "Por último se realiza la petición utilizando todos los datos necesarios por medio de una función de la librería requests **(request.get)** el resultado se vuelca en la variable **res**."
   ]
  },
  {
   "cell_type": "code",
   "execution_count": 3,
   "metadata": {},
   "outputs": [],
   "source": [
    "#tweets = res.json()\n",
    "#esta parte del código se utiliza realmente en la paginación"
   ]
  },
  {
   "cell_type": "markdown",
   "metadata": {},
   "source": [
    "Si la conección es correcta se recuperarán varios documentos que se pueden convertir a json. En el formato json es en el cual extraeremos la información que nos importa."
   ]
  },
  {
   "cell_type": "markdown",
   "metadata": {},
   "source": [
    "## Carga de datos para más de 100 tweets (Paginación)"
   ]
  },
  {
   "cell_type": "markdown",
   "metadata": {},
   "source": [
    "Como twitter te permite obtener hasta 100 tweets por llamada, si queremos recuperar más, necesitamos recordar los IDs de los tweets ya descargados para no repetir tweets en las siguientes llamadas. Esto es la paginación."
   ]
  },
  {
   "cell_type": "code",
   "execution_count": 4,
   "metadata": {},
   "outputs": [],
   "source": [
    "database_name = \"baseDeDatos\"\n",
    "collection_name = \"coleccion\"\n",
    "client = MongoClient('mongodb://localhost:27017/')\n",
    "db = client[database_name]\n",
    "collection = db[collection_name]"
   ]
  },
  {
   "cell_type": "markdown",
   "metadata": {},
   "source": [
    "**MongoDB** *es una base de datos NoSQL ágil orientado a documentos, esto significa que en lugar de guardar los datos en tablas como se hace en las bbdd relacionales, MongoDB guarda estructuras de datos en documentos similares a JSON con un esquema dinámico.*\n",
    "En nuestro caso importamos la librería para usar el cliente y creamos una base de datos y una colección a raíz de la base de datos. Ya cambiaré los nombres de **database_name** y **collection_name**. <font color='red'>falta establecer el nombre de la base de datos y el nombre de la colección</font>"
   ]
  },
  {
   "cell_type": "code",
   "execution_count": 5,
   "metadata": {},
   "outputs": [
    {
     "name": "stdout",
     "output_type": "stream",
     "text": [
      "Connection status: OK\n"
     ]
    }
   ],
   "source": [
    "pages_counter = 0\n",
    "number_of_pages = 1\n",
    "while pages_counter < number_of_pages:\n",
    "    pages_counter += 1\n",
    "    res = requests.get(url, params = pms, auth=auth)\n",
    "    print(\"Connection status: %s\" % res.reason)\n",
    "    tweets = res.json()\n",
    "    ids = [i['id'] for i in tweets['statuses']]\n",
    "    pms['max_id'] = min(ids) - 1\n",
    "    collection.insert_many(tweets['statuses'])"
   ]
  },
  {
   "cell_type": "markdown",
   "metadata": {},
   "source": [
    "El código para la paginación consiste en un bucle que se repetirá tantas veces como el número aproximado de tweets que queramos recuperar de twitter. Dentro del bucle se realiza la *consulta* (**requests.get**) y se guarda en la variable tweets con formato json (igual que se hacía antes de la paginación)\n",
    "Después, para implementar lo que es realmente la paginación; \n",
    "- Se recolectan todos los **ids** de los tweets recogidos mediante el **get**.\n",
    "- Se almacena en **i** todos los **ids** de todos los tweets.\n",
    "- Se establece en **pms** como el *id mayor*, el *id mínimo* de **i** -1 (porque se incluiría y después se duplica)\n",
    "- Por último se inserta en la base de datos (Con **insert_many**) todos los tweets que han sido recuperados en esta *ronda*"
   ]
  },
  {
   "cell_type": "code",
   "execution_count": 6,
   "metadata": {
    "scrolled": true
   },
   "outputs": [],
   "source": [
    "#client = MongoClient('mongodb://localhost:27017/')\n",
    "#db = client['db']\n",
    "#collection = db['collection']\n",
    "documents = []\n",
    "for doc in collection.find():\n",
    "    documents.append(doc)"
   ]
  },
  {
   "cell_type": "markdown",
   "metadata": {},
   "source": [
    "Lo que se hace a continuación es utilizar la base de datos de mongo en la que se ha estado almacenando los tweets para volcar la información de forma tabular, donde las columnas indican los nombres de los nodos del documento y las filas representan los datos.\n"
   ]
  },
  {
   "cell_type": "code",
   "execution_count": 7,
   "metadata": {},
   "outputs": [],
   "source": [
    "df = pd.DataFrame(documents)"
   ]
  },
  {
   "cell_type": "markdown",
   "metadata": {},
   "source": [
    "En este paso se crea un Dataframe usando la lista de documentos que hemos construido."
   ]
  },
  {
   "cell_type": "markdown",
   "metadata": {},
   "source": [
    "# Limpieza de datos"
   ]
  },
  {
   "cell_type": "markdown",
   "metadata": {},
   "source": [
    "Nos gustaría analizar los sentimientos de los tweets que son escritos por la gente desde sus diferentes dispositivos. Por lo tanto, debemos deshacernos de los tweets compuestos por bots, páginas web, servicios de envío automatizado, etc. No podemos identificar esos tweets al 100%, pero es bastante buena suposición sería seleccionar tweets publicados desde dispositivos físicos, es decir, iPhones, Teléfonos Android, ordenadores de sobremesa y portátiles. \n",
    "Los documentos de Twitter tienen una característica interesante, ya que mantienen la información sobre la fuente de la creación del tweet. Cada vez que alguien usa un dispositivo para componer un tweet, el se mantiene la información al respecto."
   ]
  },
  {
   "cell_type": "code",
   "execution_count": 8,
   "metadata": {
    "scrolled": false
   },
   "outputs": [
    {
     "name": "stderr",
     "output_type": "stream",
     "text": [
      "C:\\Anaconda\\lib\\site-packages\\bs4\\__init__.py:181: UserWarning: No parser was explicitly specified, so I'm using the best available HTML parser for this system (\"lxml\"). This usually isn't a problem, but if you run this code on another system, or in a different virtual environment, it may use a different parser and behave differently.\n",
      "\n",
      "The code that caused this warning is on line 193 of the file C:\\Anaconda\\lib\\runpy.py. To get rid of this warning, change code that looks like this:\n",
      "\n",
      " BeautifulSoup(YOUR_MARKUP})\n",
      "\n",
      "to this:\n",
      "\n",
      " BeautifulSoup(YOUR_MARKUP, \"lxml\")\n",
      "\n",
      "  markup_type=markup_type))\n"
     ]
    }
   ],
   "source": [
    "df['tweet_source'] = df['source'].apply(lambda x: BeautifulSoup(x).get_text())"
   ]
  },
  {
   "cell_type": "markdown",
   "metadata": {},
   "source": [
    "Con esta linea de código vamos a crear una nueva columna en el data Frame df que se llama tweet_source y ahí vamos a poner lo que había en la columna source pero con la información que necesitamos, es decir, la fuente del tweet.\n",
    "Ahora bien, sólo nos interesan los dispositivos. La información sobre los dispositivos es muy clara: encontraremos fuentes de tweets como Twitter para iPhone, Twitter para Android, Twitter Web Client, Twitter para BlackBerry, Twitter para Mac, Twitter para Windows, etc. Los nombres de los dispositivos comienzan con la palabra \"Twitter\". Utilizaremos esta propiedad para abordar nuestra segunda cuestión."
   ]
  },
  {
   "cell_type": "code",
   "execution_count": 9,
   "metadata": {},
   "outputs": [],
   "source": [
    "devices = list(set(df[df['tweet_source'].str.startswith('Twitter')]['tweet_source']))"
   ]
  },
  {
   "cell_type": "markdown",
   "metadata": {},
   "source": [
    "De esta manera se extrae en la variable devices todas las fuentes de los tweets que comiencen por Twitter, es decir, todas las que vienen de dispositivos."
   ]
  },
  {
   "cell_type": "code",
   "execution_count": 11,
   "metadata": {},
   "outputs": [],
   "source": [
    "#devices.remove('Twitter Ads')\n",
    "df = df[df['tweet_source'].isin(devices)]"
   ]
  },
  {
   "cell_type": "markdown",
   "metadata": {},
   "source": [
    "Quitamos de la lista de dispositivos todos aquellos que sean anuncios de Twitter y dejamos en el data frame sólamente aquellos twits cuya fuente sea la misma que la que tenemos en devices."
   ]
  },
  {
   "cell_type": "code",
   "execution_count": 12,
   "metadata": {},
   "outputs": [],
   "source": [
    "df = df[~df['text'].str.contains(\"Ghana|ghana|jamaica|Jamaica|Ladbrokes|India|Pa kistan|Ghana Premier League|Vijay|Predictions|Egyptian Premier League|cricket|Kings|Caribbean Premier League|@cricbuzz|Cricinfo\")]"
   ]
  },
  {
   "cell_type": "code",
   "execution_count": 13,
   "metadata": {},
   "outputs": [],
   "source": [
    "df2 = pd.DataFrame(data=df['text'])\n",
    "df2.to_csv('export2.csv')\n",
    "datasetr = pd.read_csv('export.csv')\n",
    "df3 =pd.DataFrame(data=datasetr['text'])"
   ]
  },
  {
   "cell_type": "markdown",
   "metadata": {},
   "source": [
    "En este punto lo que se hace en el libro (quizá yo no tenga que hacerlo) es eliminar la posibilidad de que salgan twits de Premiere League que no sea la inglesa. Hay otras Premiere League que no interesa para el estudio del libro y se quita mediante esta función utilizando las palabras clave que necesitemos. Toda esta búsqueda para la limpieza se realiza en el campo text de df (df.text)\n",
    "El código dice, en esencia, mantiene todas las filas que NO (~) tengan en la columa \"text\" las siguientes palabras (| es el operador lógico OR)"
   ]
  },
  {
   "cell_type": "code",
   "execution_count": 14,
   "metadata": {},
   "outputs": [],
   "source": [
    "#TOKENIZATION\n",
    "df['tokens'] = df['text'].apply(TweetTokenizer().tokenize)\n",
    "#STOPWORDS\n",
    "stopwords_vocabulary = stopwords.words('english') #estará en español?\n",
    "df['stopwords'] = df['tokens'].apply(lambda x: [i for i in x if i.lower() not in stopwords_vocabulary])\n",
    "#SPECIAL CHARACTERS AND STOPWORDS REMOVAL\n",
    "punctuations = list(string.punctuation)\n",
    "df['punctuation'] = df['stopwords'].apply(lambda x: [i for i in x if i not in punctuations])\n",
    "df['digits'] = df['punctuation'].apply(lambda x: [i for i in x if i[0] not in list(string.digits)])\n",
    "df['final'] = df['digits'].apply(lambda x: [i for i in x if len(i) > 1])"
   ]
  },
  {
   "cell_type": "markdown",
   "metadata": {},
   "source": [
    "# Análisis de Sentimientos\n",
    "Utilizaremos VADER para analizar los sentimientos de los datos que hemos recibido."
   ]
  },
  {
   "cell_type": "code",
   "execution_count": 15,
   "metadata": {},
   "outputs": [],
   "source": [
    "#importamos las librerías que necesitamos\n",
    "sentiment = SentimentIntensityAnalyzer()\n",
    "df['sentiment'] = df.text.apply(lambda x: sentiment.polarity_scores(x)['compound'])"
   ]
  },
  {
   "cell_type": "code",
   "execution_count": 16,
   "metadata": {},
   "outputs": [
    {
     "data": {
      "image/png": "[encoded data removed]",
      "text/plain": [
       "<matplotlib.figure.Figure at 0x1559f6c2f98>"
      ]
     },
     "metadata": {},
     "output_type": "display_data"
    }
   ],
   "source": [
    "pos = len(df[df.sentiment > 0]) #guardamos la cantidad de tweets positivos\n",
    "neg = len(df[df.sentiment < 0]) #guardamos la cantidad de tweets negativos\n",
    "neu = len(df[df.sentiment == 0]) #guardamos la cantidad de tweets neutros\n",
    "y = [pos, neu, neg] # vector de la cantidad de tweets positivos, negativos y neutros\n",
    "#construimos un gráfico con los datos del vector\n",
    "plt.title(\"Sentiment Analysis\")\n",
    "plt.ylabel('Number of tweets')\n",
    "plt.xticks(range(len(y)), ['positive', 'neutral', 'negative'])\n",
    "plt.bar(range(len(y)), height=y, width = 0.75, align = 'center', alpha = 0.8)\n",
    "plt.show()"
   ]
  },
  {
   "cell_type": "markdown",
   "metadata": {},
   "source": [
    "# Etiquetado de los datos"
   ]
  },
  {
   "cell_type": "code",
   "execution_count": 17,
   "metadata": {
    "scrolled": true
   },
   "outputs": [
    {
     "name": "stdout",
     "output_type": "stream",
     "text": [
      "1. Carga de archivos realizada\n",
      "2. Limpieza del dataset realizada\n",
      "3. Limpieza del dataset2 realizada\n",
      "['@stellargirl loooooooovvvvvveee Kindle DX cool fantastic right', 'Reading kindle ... Love ... Lee childs good read', 'Ok first assesment #kindle2 ... fucking rocks', \"@kenburbary love Kindle I've mine months never looked back new big one huge need remorse :)\", '@mikefish Fair enough Kindle think perfect :)', \"@richardebaker big I'm quite happy Kindle\", 'Fuck economy hate aig non loan given asses', 'Jquery new best friend', 'Loves twitter', 'love Obama makes jokes', 'Check video President Obama White House Correspondents Dinner http://bit.ly/IMXUM', '@Karoli firmly believe Obama Pelosi ZERO desire civil charade slogan want destroy conservatism', 'House Correspondents dinner last night whoopi barbara sherri went Obama got standing ovation', 'Watchin Espn .. Jus seen new Nike Commerical Puppet Lebron .. sh hilarious ... LMAO', 'dear nike stop flywire shit waste science ugly love @vincentx24x', '#lebron best athlete generation time basketball related want get inter-sport debates __1', 'talking guy last night telling die hard Spurs fan also told hates LeBron James', 'love lebron http://bit.ly/PdHur', \"@ludajuice Lebron Beast I'm still cheering .. til end\", '@Pmillzz lebron BOSS', \"@sketchbug Lebron hometown hero lol love Lakers let's go Cavs lol\", 'lebron zydrunas awesome duo', '@wordwhizkid Lebron beast ... nobody NBA comes even close', 'downloading apps iphone much fun :-) literally app anything', 'good news call Visa office saying everything fine ... relief sick scams Stealing', 'http://twurl.nl/epkr4b awesome come back @biz via @fredwilson', 'montreal long weekend Much needed', 'Booz Allen Hamilton bad ass homegrown social collaboration platform Way cool #ttiv', '#MLUC09 Customer Innovation Award Winner Booz Allen Hamilton http://ping.fm/c2hPP', '@SoChi2 current use Nikon D90 love much Canon chose D90 video feature mistake', 'need suggestions good IR filter canon ... got pls DM', '@surfit checked google business blip shows second entry Huh good ba ... http://blip.fm/~6emhv', '@phyreman9 Google always good place look mentioned worked Mustang Dad @KimbleT', 'Played android google phone slide screen scares would break fucker fast Still prefer iPhone', 'US planning resume military tribunals Guantanamo Bay ... time trial AIG execs Chrysler debt holders', 'omg bored tattoooos itchy help aha =)', \"I'm itchy miserable\", \"@sekseemess I'm itchy Maybe later lol\", 'RT @jessverr love nerdy Stanford human biology videos makes miss school http://bit.ly/13t7NR', '@spinuzzi bit crazy steep learning curve LyX really good long docs anything shorter would insane', \"I'm listening Danny Gokey <3 <3 <3 Aww he's amazing <3 much :)\", 'going sleep bike ride :]', 'cant sleep ... tooth aching', 'Blah blah blah old old plans today going back sleep guess', 'glad didnt Bay Breakers today freaking degrees San Francisco wtf', 'San Francisco Bay Breakers', 'landed San Francisco', 'San Francisco today suggestions', 'Obama Administration Must Stop Bonuses AIG Ponzi Schemers ... http://bit.ly/2CUIg', 'started think Citi really deep gonna survive turmoil gonna next AIG', \"ShaunWoo hate'n AiG\", '@YarnThing regret going see Star Trek AWESOME', 'way see Star Trek Esquire', 'Going see star trek soon dad', 'annoying new trend internets people picking apart michael lewis malcolm gladwell nobody wants read', 'Bill Simmons conversation Malcolm Gladwell http://bit.ly/j9o50', 'Highly recommend http://tinyurl.com/HowDavidBeatsGoliath Malcolm Gladwell', 'Blink malcolm gladwell amazing book tipping point', 'Malcolm Gladwell might new man crush', 'omg commercials alone ESPN going drive nuts', '@robmalon Playing Twitter API sounds fun May need take class find new friend like generate results API code', 'playing cURL Twitter API', 'Hello Twitter API ;)', 'playing Java Twitter API', \"@morind45 twitter api slow client's good\", 'yahoo answers butt sometimes', 'scrapbooking Nic =D', 'RT @mashable Five Things Wolfram Alpha Better Vastly Different Google http://bit.ly/6nSnR', 'changed default pic Nike basketball cause bball awesome', 'Nike owns NBA Playoffs ads LeBron Kobe Carmelo http://ow.ly/7Uiy #Adidas #Billups #Howard #Marketing #Branding', \"Next time I'll call Nike\", 'New blog post Nike SB Dunk Low Premium White Gum http://tr.im/lOtT', 'RT @SmartChickPDX told Nike layoffs started today :-(', 'Back worked Nike one fav word :)', \"way I'm totally inspired freaky Nike commercial http://snurl.com/icgj9\"]\n"
     ]
    }
   ],
   "source": [
    "classes = ['4', '2', '0']\n",
    "filename = 'testdata.manual.2009.06.14.csv'\n",
    "filename2 = 'prueba.csv'\n",
    "dataset = pd.read_csv(filename)\n",
    "dataset3 = pd.read_csv(filename)\n",
    "tweetys = dataset['final']\n",
    "prueba = pd.read_csv(filename) #para la última parte del NER combinado\n",
    "dataset2 = pd.read_csv(filename2)\n",
    "print(\"1. Carga de archivos realizada\")\n",
    "\n",
    "#LIMPIEZA DE DATOS DE DATASET\n",
    "#TOKENIZATION\n",
    "dataset['tokens'] = dataset['final'].apply(TweetTokenizer().tokenize)\n",
    "#STOPWORDS\n",
    "stopwords_vocabulary = stopwords.words('english') #estará en español?\n",
    "dataset['stopwords'] = dataset['tokens'].apply(lambda x: [i for i in x if i.lower() not in stopwords_vocabulary])\n",
    "#SPECIAL CHARACTERS AND STOPWORDS REMOVAL\n",
    "punctuations = list(string.punctuation)\n",
    "dataset['punctuation'] = dataset['stopwords'].apply(lambda x: [i for i in x if i not in punctuations])\n",
    "dataset['digits'] = dataset['punctuation'].apply(lambda x: [i for i in x if i[0] not in list(string.digits)])\n",
    "dataset['final'] = dataset['digits'].apply(lambda x: [i for i in x if len(i) > 1])\n",
    "print(\"2. Limpieza del dataset realizada\")\n",
    "\n",
    "#LIMPIEZA DE DATOS DE DATASET2\n",
    "#TOKENIZATION\n",
    "dataset2['tokens'] = dataset2['final'].apply(TweetTokenizer().tokenize)\n",
    "#STOPWORDS\n",
    "stopwords_vocabulary = stopwords.words('english') #estará en español?\n",
    "dataset2['stopwords'] = dataset2['tokens'].apply(lambda x: [i for i in x if i.lower() not in stopwords_vocabulary])\n",
    "#SPECIAL CHARACTERS AND STOPWORDS REMOVAL\n",
    "punctuations = list(string.punctuation)\n",
    "dataset2['punctuation'] = dataset2['stopwords'].apply(lambda x: [i for i in x if i not in punctuations])\n",
    "dataset2['digits'] = dataset2['punctuation'].apply(lambda x: [i for i in x if i[0] not in list(string.digits)])\n",
    "dataset2['final'] = dataset2['digits'].apply(lambda x: [i for i in x if len(i) > 1])\n",
    "print(\"3. Limpieza del dataset2 realizada\")\n",
    "\n",
    "#Aquí es el lugar donde defino el número de tweets que usaré en los modelos siempre con el porcentaje 80:20\n",
    "train_data = dataset2['final'][0:300]\n",
    "train_labels = dataset2['label'][0:300]\n",
    "\n",
    "test_data = dataset['final'][0:75]\n",
    "test_labels = dataset['label'][0:75]\n",
    "\n",
    "train_data = list(train_data.apply(' '.join))\n",
    "test_data = list(test_data.apply(' '.join))"
   ]
  },
  {
   "cell_type": "code",
   "execution_count": 18,
   "metadata": {},
   "outputs": [
    {
     "data": {
      "text/plain": [
       "0      [@stellargirl, loooooooovvvvvveee, Kindle, DX,...\n",
       "1      [Reading, kindle, ..., Love, ..., Lee, childs,...\n",
       "2      [Ok, first, assesment, #kindle2, ..., fucking,...\n",
       "3      [@kenburbary, love, Kindle, I've, mine, months...\n",
       "4      [@mikefish, Fair, enough, Kindle, think, perfe...\n",
       "5       [@richardebaker, big, I'm, quite, happy, Kindle]\n",
       "6      [Fuck, economy, hate, aig, non, loan, given, a...\n",
       "7                            [Jquery, new, best, friend]\n",
       "8                                       [Loves, twitter]\n",
       "9                            [love, Obama, makes, jokes]\n",
       "10     [Check, video, President, Obama, White, House,...\n",
       "11     [@Karoli, firmly, believe, Obama, Pelosi, ZERO...\n",
       "12     [House, Correspondents, dinner, last, night, w...\n",
       "13     [Watchin, Espn, .., Jus, seen, new, Nike, Comm...\n",
       "14     [dear, nike, stop, flywire, shit, waste, scien...\n",
       "15     [#lebron, best, athlete, generation, time, bas...\n",
       "16     [talking, guy, last, night, telling, die, hard...\n",
       "17                   [love, lebron, http://bit.ly/PdHur]\n",
       "18     [@ludajuice, Lebron, Beast, I'm, still, cheeri...\n",
       "19                              [@Pmillzz, lebron, BOSS]\n",
       "20     [@sketchbug, Lebron, hometown, hero, lol, love...\n",
       "21                      [lebron, zydrunas, awesome, duo]\n",
       "22     [@wordwhizkid, Lebron, beast, ..., nobody, NBA...\n",
       "23     [downloading, apps, iphone, much, fun, :-), li...\n",
       "24     [good, news, call, Visa, office, saying, every...\n",
       "25     [http://twurl.nl/epkr4b, awesome, come, back, ...\n",
       "26               [montreal, long, weekend, Much, needed]\n",
       "27     [Booz, Allen, Hamilton, bad, ass, homegrown, s...\n",
       "28     [#MLUC09, Customer, Innovation, Award, Winner,...\n",
       "29     [@SoChi2, current, use, Nikon, D90, love, much...\n",
       "                             ...                        \n",
       "468    [Man, kinda, dislike, Apple, right, Case, poin...\n",
       "469    [@cwong08, Kindle, Sony, PRS, Like, Physical, ...\n",
       "470    [#Kindle2, seems, best, eReader, work, UK, get...\n",
       "471    [google, addiction, Thank, pointing, @annamart...\n",
       "472    [@ruby_gem, primary, debit, card, Visa, Electron]\n",
       "473               [bank, get, new, visa, platinum, card]\n",
       "474    [dearest, @google, rich, bastards, VISA, card,...\n",
       "475       [date, bobby, flay, gut, fieri, food, network]\n",
       "476    [Excited, seeing, Bobby, Flay, Guy, Fieri, tom...\n",
       "477    [Gonna, go, see, Bobby, Flay, Shoreline, Eat, ...\n",
       "478    [can't, wait, great, american, food, music, fe...\n",
       "479    [dad, NY, day, ate, MESA, grill, last, night, ...\n",
       "480                               [Fighting, LaTex, ...]\n",
       "481      [@Iheartseverus, love, want, die, Latex, devil]\n",
       "482    [hours, hours, inkscape, crashing, normally, s...\n",
       "483    [Track, Iran, Social, Media, http://bit.ly/2BoqU]\n",
       "484    [Shit's, hitting, fan, Iran, ..., craziness, i...\n",
       "485    [Monday, already, Iran, may, implode, Kitchen,...\n",
       "486    [Twitter, Stock, buzz, AAPL, ES_F, SPY, SPX, P...\n",
       "487    [getting, ready, test, burger, receipes, weeke...\n",
       "488                  [@johncmayer, Bobby, Flay, joining]\n",
       "489    [lam, love, Bobby, Flay, ..., favorite, RT, @t...\n",
       "490    [created, first, LaTeX, file, scratch, work, w...\n",
       "491    [using, Linux, loving, much, nicer, windows, ....\n",
       "492    [using, LaTeX, lot, typeset, mathematics, look...\n",
       "493    [Ask, Programming, LaTeX, InDesign, submitted,...\n",
       "494    [note, hate, Word, hate, Pages, hate, LaTeX, s...\n",
       "495    [Ahhh, ..., back, real, text, editing, environ...\n",
       "496    [Trouble, Iran, see, Hmm, Iran, Iran, far, awa...\n",
       "497    [Reading, tweets, coming, Iran, ..., whole, th...\n",
       "Name: final, Length: 498, dtype: object"
      ]
     },
     "execution_count": 18,
     "metadata": {},
     "output_type": "execute_result"
    }
   ],
   "source": [
    "tweetys"
   ]
  },
  {
   "cell_type": "markdown",
   "metadata": {},
   "source": [
    "# Preparación de los datos para los modelos\n",
    "se prepara la información para dejarla de manera adecuada lista para los modelos"
   ]
  },
  {
   "cell_type": "code",
   "execution_count": 85,
   "metadata": {},
   "outputs": [],
   "source": [
    "vectorizer = TfidfVectorizer(min_df=5, max_df = 0.8, sublinear_tf=True, use_idf=True)\n",
    "#min_df = 5. Descarta palabras que aparezcan en menos de 5 tweets.\n",
    "#max_df = 0.8 Descarta palabras que aparezcan en más del 80% de los tweets\n",
    "#sublinear_tf = True Le da una importancia logarítmica a la repetición de palabras\n",
    "#use_idf = True Permite la frecuencia inversa del documento ???\n",
    "train_vectors = vectorizer.fit_transform(train_data)\n",
    "test_vectors = vectorizer.transform(test_data)"
   ]
  },
  {
   "cell_type": "code",
   "execution_count": 112,
   "metadata": {},
   "outputs": [
    {
     "name": "stdout",
     "output_type": "stream",
     "text": [
      "  (1, 30)\t0.7566258638880964\n",
      "  (1, 18)\t0.6538480726404199\n",
      "  (3, 58)\t0.4193979846865096\n",
      "  (3, 39)\t0.4329765957271401\n",
      "  (3, 36)\t0.4193979846865096\n",
      "  (3, 35)\t0.4076356567863411\n",
      "  (3, 30)\t0.4076356567863411\n",
      "  (3, 0)\t0.3583409983061691\n",
      "  (4, 51)\t1.0\n",
      "  (6, 21)\t1.0\n",
      "  (7, 36)\t1.0\n",
      "  (9, 30)\t1.0\n",
      "  (10, 25)\t0.6854790724168764\n",
      "  (10, 24)\t0.7280923301879362\n",
      "  (11, 60)\t1.0\n",
      "  (12, 37)\t0.5641784811678414\n",
      "  (12, 24)\t0.6149014273164514\n",
      "  (12, 19)\t0.5509980726566459\n",
      "  (13, 36)\t1.0\n",
      "  (14, 30)\t1.0\n",
      "  (15, 60)\t0.5982372933425959\n",
      "  (15, 53)\t0.5982372933425959\n",
      "  (15, 14)\t0.5331268908132939\n",
      "  (16, 37)\t0.6760624044086405\n",
      "  (16, 20)\t0.7368443698266329\n",
      "  :\t:\n",
      "  (56, 25)\t0.6854790724168764\n",
      "  (56, 6)\t0.7280923301879362\n",
      "  (58, 36)\t0.6957540575129336\n",
      "  (58, 31)\t0.7182800926200652\n",
      "  (59, 17)\t1.0\n",
      "  (60, 49)\t0.4369104893054235\n",
      "  (60, 36)\t0.42320850713734204\n",
      "  (60, 35)\t0.4113393103055759\n",
      "  (60, 28)\t0.3752987577286883\n",
      "  (60, 13)\t0.42320850713734204\n",
      "  (60, 12)\t0.3752987577286883\n",
      "  (64, 18)\t1.0\n",
      "  (67, 25)\t0.6854790724168764\n",
      "  (67, 3)\t0.7280923301879362\n",
      "  (69, 25)\t1.0\n",
      "  (70, 53)\t1.0\n",
      "  (71, 36)\t0.5975629417821954\n",
      "  (71, 26)\t0.552797814591363\n",
      "  (71, 25)\t0.5808038453657324\n",
      "  (72, 54)\t1.0\n",
      "  (73, 39)\t0.7703807401589301\n",
      "  (73, 0)\t0.6375841240120231\n",
      "  (74, 61)\t0.5886049790075429\n",
      "  (74, 25)\t0.5541555353644498\n",
      "  (74, 6)\t0.5886049790075429\n"
     ]
    }
   ],
   "source": [
    "print(test_vectors)"
   ]
  },
  {
   "cell_type": "markdown",
   "metadata": {},
   "source": [
    "# Creación del modelo para Navie Bayes\n",
    "Según el ejemplo del libro"
   ]
  },
  {
   "cell_type": "code",
   "execution_count": 86,
   "metadata": {},
   "outputs": [],
   "source": [
    "nb = MultinomialNB()\n",
    "#nb.fit(train_vectors, train_labels).score(test_vectors, test_labels)\n",
    "#Para guardar el entrenamiento del modelo\n",
    "#file = open('NaiveBayes', 'wb')\n",
    "#dump(nb, file)\n",
    "#Para cargar el entrenamiento del modelo\n",
    "file = open('NaiveBayes', 'rb')\n",
    "nb = load(file)"
   ]
  },
  {
   "cell_type": "code",
   "execution_count": 87,
   "metadata": {
    "scrolled": true
   },
   "outputs": [
    {
     "name": "stdout",
     "output_type": "stream",
     "text": [
      "Naive Bayes\n",
      "             precision    recall  f1-score   support\n",
      "\n",
      "          0       0.50      0.33      0.40        21\n",
      "          2       0.21      0.57      0.30        14\n",
      "          4       0.55      0.30      0.39        40\n",
      "\n",
      "avg / total       0.47      0.36      0.37        75\n",
      "\n",
      "[[ 7  9  5]\n",
      " [ 1  8  5]\n",
      " [ 6 22 12]]\n"
     ]
    },
    {
     "name": "stderr",
     "output_type": "stream",
     "text": [
      "C:\\Anaconda\\lib\\site-packages\\sklearn\\neural_network\\multilayer_perceptron.py:564: ConvergenceWarning: Stochastic Optimizer: Maximum iterations (200) reached and the optimization hasn't converged yet.\n",
      "  % self.max_iter, ConvergenceWarning)\n",
      "C:\\Anaconda\\lib\\site-packages\\sklearn\\neural_network\\multilayer_perceptron.py:564: ConvergenceWarning: Stochastic Optimizer: Maximum iterations (200) reached and the optimization hasn't converged yet.\n",
      "  % self.max_iter, ConvergenceWarning)\n",
      "C:\\Anaconda\\lib\\site-packages\\sklearn\\neural_network\\multilayer_perceptron.py:564: ConvergenceWarning: Stochastic Optimizer: Maximum iterations (200) reached and the optimization hasn't converged yet.\n",
      "  % self.max_iter, ConvergenceWarning)\n",
      "C:\\Anaconda\\lib\\site-packages\\sklearn\\neural_network\\multilayer_perceptron.py:564: ConvergenceWarning: Stochastic Optimizer: Maximum iterations (200) reached and the optimization hasn't converged yet.\n",
      "  % self.max_iter, ConvergenceWarning)\n",
      "C:\\Anaconda\\lib\\site-packages\\sklearn\\neural_network\\multilayer_perceptron.py:564: ConvergenceWarning: Stochastic Optimizer: Maximum iterations (200) reached and the optimization hasn't converged yet.\n",
      "  % self.max_iter, ConvergenceWarning)\n",
      "C:\\Anaconda\\lib\\site-packages\\sklearn\\neural_network\\multilayer_perceptron.py:564: ConvergenceWarning: Stochastic Optimizer: Maximum iterations (200) reached and the optimization hasn't converged yet.\n",
      "  % self.max_iter, ConvergenceWarning)\n",
      "C:\\Anaconda\\lib\\site-packages\\sklearn\\neural_network\\multilayer_perceptron.py:564: ConvergenceWarning: Stochastic Optimizer: Maximum iterations (200) reached and the optimization hasn't converged yet.\n",
      "  % self.max_iter, ConvergenceWarning)\n",
      "C:\\Anaconda\\lib\\site-packages\\sklearn\\neural_network\\multilayer_perceptron.py:564: ConvergenceWarning: Stochastic Optimizer: Maximum iterations (200) reached and the optimization hasn't converged yet.\n",
      "  % self.max_iter, ConvergenceWarning)\n"
     ]
    },
    {
     "name": "stdout",
     "output_type": "stream",
     "text": [
      "Cross validation 0.49333333333333335\n"
     ]
    },
    {
     "name": "stderr",
     "output_type": "stream",
     "text": [
      "C:\\Anaconda\\lib\\site-packages\\sklearn\\neural_network\\multilayer_perceptron.py:564: ConvergenceWarning: Stochastic Optimizer: Maximum iterations (200) reached and the optimization hasn't converged yet.\n",
      "  % self.max_iter, ConvergenceWarning)\n",
      "C:\\Anaconda\\lib\\site-packages\\sklearn\\neural_network\\multilayer_perceptron.py:564: ConvergenceWarning: Stochastic Optimizer: Maximum iterations (200) reached and the optimization hasn't converged yet.\n",
      "  % self.max_iter, ConvergenceWarning)\n"
     ]
    }
   ],
   "source": [
    "print(\"Naive Bayes\")\n",
    "print(classification_report(test_labels, nb.predict(test_vectors)))\n",
    "print(confusion_matrix(test_labels, nb.predict(test_vectors)))\n",
    "predicted = cross_val_predict(nb, test_vectors, test_labels, cv=10)\n",
    "print(\"Cross validation %s\" % accuracy_score(test_labels, predicted))"
   ]
  },
  {
   "cell_type": "code",
   "execution_count": 80,
   "metadata": {},
   "outputs": [
    {
     "name": "stdout",
     "output_type": "stream",
     "text": [
      "[2 2 2 2 2 2 0 2 2 4 2 0 2 2 4 4 4 4 2 2 4 2 2 0 0 0 0 2 4 4 2 4 0 2 4 2 2\n",
      " 2 4 2 0 2 2 0 0 2 2 0 4 2 0 2 2 2 4 4 4 2 4 2 2 2 2 2 0 2 2 4 2 4 4 4 0 4\n",
      " 4]\n"
     ]
    },
    {
     "data": {
      "image/png": "[encoded data removed]",
      "text/plain": [
       "<matplotlib.figure.Figure at 0x29cb3dd4400>"
      ]
     },
     "metadata": {},
     "output_type": "display_data"
    }
   ],
   "source": [
    "result = nb.predict(test_vectors)\n",
    "print(result)\n",
    "pos = len(result[result == 4]) #guardamos la cantidad de tweets positivos\n",
    "neg = len(result[result == 0]) #guardamos la cantidad de tweets negativos\n",
    "neu = len(result[result == 2]) #guardamos la cantidad de tweets neutros\n",
    "y = [pos, neu, neg] # vector de la cantidad de tweets positivos, negativos y neutros\n",
    "#construimos un gráfico con los datos del vector\n",
    "plt.title(\"Sentiment Analysis\")\n",
    "plt.ylabel('Number of tweets')\n",
    "plt.xticks(range(len(y)), ['positive', 'neutral', 'negative'])\n",
    "plt.bar(range(len(y)), height=y, width = 0.75, align = 'center', alpha = 0.8)\n",
    "plt.show()"
   ]
  },
  {
   "cell_type": "markdown",
   "metadata": {},
   "source": [
    "# Creación del modelo para SVC"
   ]
  },
  {
   "cell_type": "code",
   "execution_count": 17,
   "metadata": {
    "scrolled": true
   },
   "outputs": [
    {
     "data": {
      "text/plain": [
       "0.28"
      ]
     },
     "execution_count": 17,
     "metadata": {},
     "output_type": "execute_result"
    }
   ],
   "source": [
    "msvc = SVC()\n",
    "msvc.fit(train_vectors, train_labels).score(test_vectors, test_labels)"
   ]
  },
  {
   "cell_type": "code",
   "execution_count": 18,
   "metadata": {},
   "outputs": [
    {
     "name": "stdout",
     "output_type": "stream",
     "text": [
      "SVC\n",
      "             precision    recall  f1-score   support\n",
      "\n",
      "          0       0.28      1.00      0.44        21\n",
      "          2       0.00      0.00      0.00        14\n",
      "          4       0.00      0.00      0.00        40\n",
      "\n",
      "avg / total       0.08      0.28      0.12        75\n",
      "\n",
      "[[21  0  0]\n",
      " [14  0  0]\n",
      " [40  0  0]]\n",
      "Cross validation 0.5333333333333333\n"
     ]
    },
    {
     "name": "stderr",
     "output_type": "stream",
     "text": [
      "C:\\Anaconda\\lib\\site-packages\\sklearn\\metrics\\classification.py:1135: UndefinedMetricWarning: Precision and F-score are ill-defined and being set to 0.0 in labels with no predicted samples.\n",
      "  'precision', 'predicted', average, warn_for)\n"
     ]
    }
   ],
   "source": [
    "print(\"SVC\")\n",
    "print(classification_report(test_labels, msvc.predict(test_vectors)))\n",
    "print(confusion_matrix(test_labels, msvc.predict(test_vectors)))\n",
    "predicted = cross_val_predict(msvc, test_vectors, test_labels, cv=10)\n",
    "print(\"Cross validation %s\" % accuracy_score(test_labels, predicted))"
   ]
  },
  {
   "cell_type": "markdown",
   "metadata": {},
   "source": [
    "# Creación del modelo para KNeighborsClassifier"
   ]
  },
  {
   "cell_type": "code",
   "execution_count": 49,
   "metadata": {},
   "outputs": [
    {
     "data": {
      "text/plain": [
       "0.24"
      ]
     },
     "execution_count": 49,
     "metadata": {},
     "output_type": "execute_result"
    }
   ],
   "source": [
    "neigh = KNeighborsClassifier()\n",
    "neigh.fit(train_vectors, train_labels).score(test_vectors, test_labels)"
   ]
  },
  {
   "cell_type": "code",
   "execution_count": 51,
   "metadata": {
    "scrolled": true
   },
   "outputs": [
    {
     "name": "stdout",
     "output_type": "stream",
     "text": [
      "KNeighbors Classifier\n",
      "             precision    recall  f1-score   support\n",
      "\n",
      "          0       0.23      0.52      0.32        21\n",
      "          2       0.15      0.21      0.18        14\n",
      "          4       0.50      0.10      0.17        40\n",
      "\n",
      "avg / total       0.36      0.24      0.21        75\n",
      "\n",
      "[[11  8  2]\n",
      " [ 9  3  2]\n",
      " [27  9  4]]\n",
      "Cross validation 0.37333333333333335\n"
     ]
    }
   ],
   "source": [
    "print(\"KNeighbors Classifier\")\n",
    "print(classification_report(test_labels, neigh.predict(test_vectors)))\n",
    "print(confusion_matrix(test_labels, neigh.predict(test_vectors)))\n",
    "predicted = cross_val_predict(neigh, test_vectors, test_labels, cv=10)\n",
    "print(\"Cross validation %s\" % accuracy_score(test_labels, predicted))"
   ]
  },
  {
   "cell_type": "markdown",
   "metadata": {},
   "source": [
    "# Creación del modelo para DessisionTreeClassifier"
   ]
  },
  {
   "cell_type": "code",
   "execution_count": 52,
   "metadata": {},
   "outputs": [
    {
     "data": {
      "text/plain": [
       "0.3466666666666667"
      ]
     },
     "execution_count": 52,
     "metadata": {},
     "output_type": "execute_result"
    }
   ],
   "source": [
    "tree = DecisionTreeClassifier(random_state=0)\n",
    "tree.fit(train_vectors, train_labels).score(test_vectors, test_labels)"
   ]
  },
  {
   "cell_type": "code",
   "execution_count": 53,
   "metadata": {},
   "outputs": [
    {
     "name": "stdout",
     "output_type": "stream",
     "text": [
      "KNeighbors Classifier\n",
      "             precision    recall  f1-score   support\n",
      "\n",
      "          0       0.50      0.33      0.40        21\n",
      "          2       0.20      0.57      0.29        14\n",
      "          4       0.55      0.28      0.37        40\n",
      "\n",
      "avg / total       0.47      0.35      0.36        75\n",
      "\n",
      "[[ 7 10  4]\n",
      " [ 1  8  5]\n",
      " [ 6 23 11]]\n",
      "Cross validation 0.49333333333333335\n"
     ]
    }
   ],
   "source": [
    "print(\"DecisionTreeClassifier\")\n",
    "print(classification_report(test_labels, tree.predict(test_vectors)))\n",
    "print(confusion_matrix(test_labels, tree.predict(test_vectors)))\n",
    "predicted = cross_val_predict(tree, test_vectors, test_labels, cv=10)\n",
    "print(\"Cross validation %s\" % accuracy_score(test_labels, predicted))"
   ]
  },
  {
   "cell_type": "markdown",
   "metadata": {},
   "source": [
    "# Creación del modelo para MLP Perceptrion Classifier"
   ]
  },
  {
   "cell_type": "code",
   "execution_count": 54,
   "metadata": {
    "scrolled": true
   },
   "outputs": [
    {
     "name": "stderr",
     "output_type": "stream",
     "text": [
      "C:\\Anaconda\\lib\\site-packages\\sklearn\\neural_network\\multilayer_perceptron.py:564: ConvergenceWarning: Stochastic Optimizer: Maximum iterations (200) reached and the optimization hasn't converged yet.\n",
      "  % self.max_iter, ConvergenceWarning)\n"
     ]
    },
    {
     "data": {
      "text/plain": [
       "0.3333333333333333"
      ]
     },
     "execution_count": 54,
     "metadata": {},
     "output_type": "execute_result"
    }
   ],
   "source": [
    "mlp = MLPClassifier()\n",
    "mlp.fit(train_vectors, train_labels).score(test_vectors, test_labels)"
   ]
  },
  {
   "cell_type": "code",
   "execution_count": 55,
   "metadata": {},
   "outputs": [
    {
     "name": "stdout",
     "output_type": "stream",
     "text": [
      "MLPClassifier\n",
      "             precision    recall  f1-score   support\n",
      "\n",
      "          0       0.50      0.29      0.36        21\n",
      "          2       0.19      0.57      0.29        14\n",
      "          4       0.52      0.28      0.36        40\n",
      "\n",
      "avg / total       0.45      0.33      0.35        75\n",
      "\n",
      "[[ 6 10  5]\n",
      " [ 1  8  5]\n",
      " [ 5 24 11]]\n"
     ]
    },
    {
     "name": "stderr",
     "output_type": "stream",
     "text": [
      "C:\\Anaconda\\lib\\site-packages\\sklearn\\neural_network\\multilayer_perceptron.py:564: ConvergenceWarning: Stochastic Optimizer: Maximum iterations (200) reached and the optimization hasn't converged yet.\n",
      "  % self.max_iter, ConvergenceWarning)\n",
      "C:\\Anaconda\\lib\\site-packages\\sklearn\\neural_network\\multilayer_perceptron.py:564: ConvergenceWarning: Stochastic Optimizer: Maximum iterations (200) reached and the optimization hasn't converged yet.\n",
      "  % self.max_iter, ConvergenceWarning)\n",
      "C:\\Anaconda\\lib\\site-packages\\sklearn\\neural_network\\multilayer_perceptron.py:564: ConvergenceWarning: Stochastic Optimizer: Maximum iterations (200) reached and the optimization hasn't converged yet.\n",
      "  % self.max_iter, ConvergenceWarning)\n",
      "C:\\Anaconda\\lib\\site-packages\\sklearn\\neural_network\\multilayer_perceptron.py:564: ConvergenceWarning: Stochastic Optimizer: Maximum iterations (200) reached and the optimization hasn't converged yet.\n",
      "  % self.max_iter, ConvergenceWarning)\n",
      "C:\\Anaconda\\lib\\site-packages\\sklearn\\neural_network\\multilayer_perceptron.py:564: ConvergenceWarning: Stochastic Optimizer: Maximum iterations (200) reached and the optimization hasn't converged yet.\n",
      "  % self.max_iter, ConvergenceWarning)\n",
      "C:\\Anaconda\\lib\\site-packages\\sklearn\\neural_network\\multilayer_perceptron.py:564: ConvergenceWarning: Stochastic Optimizer: Maximum iterations (200) reached and the optimization hasn't converged yet.\n",
      "  % self.max_iter, ConvergenceWarning)\n",
      "C:\\Anaconda\\lib\\site-packages\\sklearn\\neural_network\\multilayer_perceptron.py:564: ConvergenceWarning: Stochastic Optimizer: Maximum iterations (200) reached and the optimization hasn't converged yet.\n",
      "  % self.max_iter, ConvergenceWarning)\n",
      "C:\\Anaconda\\lib\\site-packages\\sklearn\\neural_network\\multilayer_perceptron.py:564: ConvergenceWarning: Stochastic Optimizer: Maximum iterations (200) reached and the optimization hasn't converged yet.\n",
      "  % self.max_iter, ConvergenceWarning)\n"
     ]
    },
    {
     "name": "stdout",
     "output_type": "stream",
     "text": [
      "Cross validation 0.5066666666666667\n"
     ]
    },
    {
     "name": "stderr",
     "output_type": "stream",
     "text": [
      "C:\\Anaconda\\lib\\site-packages\\sklearn\\neural_network\\multilayer_perceptron.py:564: ConvergenceWarning: Stochastic Optimizer: Maximum iterations (200) reached and the optimization hasn't converged yet.\n",
      "  % self.max_iter, ConvergenceWarning)\n",
      "C:\\Anaconda\\lib\\site-packages\\sklearn\\neural_network\\multilayer_perceptron.py:564: ConvergenceWarning: Stochastic Optimizer: Maximum iterations (200) reached and the optimization hasn't converged yet.\n",
      "  % self.max_iter, ConvergenceWarning)\n"
     ]
    }
   ],
   "source": [
    "print(\"MLPClassifier\")\n",
    "print(classification_report(test_labels, mlp.predict(test_vectors)))\n",
    "print(confusion_matrix(test_labels, mlp.predict(test_vectors)))\n",
    "predicted = cross_val_predict(mlp, test_vectors, test_labels, cv=10)\n",
    "print(\"Cross validation %s\" % accuracy_score(test_labels, predicted))"
   ]
  },
  {
   "cell_type": "markdown",
   "metadata": {},
   "source": [
    "# NER Name Entity Recognition\n",
    "En la siguiente sección implementamos el reconocimiento de entidades. Es muy lento, así que vamos a tener que ver cómo acelerar el proceso."
   ]
  },
  {
   "cell_type": "code",
   "execution_count": null,
   "metadata": {},
   "outputs": [],
   "source": []
  },
  {
   "cell_type": "code",
   "execution_count": 18,
   "metadata": {
    "scrolled": false
   },
   "outputs": [
    {
     "name": "stderr",
     "output_type": "stream",
     "text": [
      "C:\\Anaconda\\lib\\site-packages\\nltk\\tag\\stanford.py:183: DeprecationWarning: \n",
      "The StanfordTokenizer will be deprecated in version 3.2.5.\n",
      "Please use \u001b[91mnltk.tag.corenlp.CoreNLPPOSTagger\u001b[0m or \u001b[91mnltk.tag.corenlp.CoreNLPNERTagger\u001b[0m instead.\n",
      "  super(StanfordNERTagger, self).__init__(*args, **kwargs)\n"
     ]
    },
    {
     "data": {
      "text/plain": [
       "[('GM', 20),\n",
       " ('Time', 20),\n",
       " ('Warner', 20),\n",
       " ('Nike', 16),\n",
       " ('Google', 11),\n",
       " ('Stanford', 10),\n",
       " ('Safeway', 6),\n",
       " ('Canon', 5),\n",
       " ('New', 5),\n",
       " ('AIG', 4)]"
      ]
     },
     "execution_count": 18,
     "metadata": {},
     "output_type": "execute_result"
    }
   ],
   "source": [
    "st = StanfordNERTagger(r'C:\\Users\\Servicio Técnico\\Documents\\stanford-ner-2018-02-27\\classifiers\\english.all.3class.distsim.crf.ser.gz')\n",
    "#acuérdate de que cambia para el mac que es donde vas a realizar la presentación\n",
    "entities = []\n",
    "\n",
    "for r in tweetys:\n",
    "    #print(\"está analizando(r): \", r)\n",
    "    lst_tags = st.tag(r) #no tengo que hacer el split porque ya está hecho?\n",
    "    for tup in lst_tags:\n",
    "        #print(\"está analizando(tup): \", tup)\n",
    "        if(tup[1] != 'O'):\n",
    "            #print(\"mete(tup) \", tup, \"en las entidades\")\n",
    "            entities.append(tup)\n",
    "df_entities = pd.DataFrame(entities)\n",
    "df_entities.columns = [\"word\",\"ner\"]\n",
    "#Organizaciones\n",
    "organizations =df_entities[df_entities['ner'].str.contains(\"ORGANIZATION\")]\n",
    "cnt = Counter(organizations['word'])\n",
    "cnt.most_common(10)\n",
    "\n",
    "\n",
    "# 1. Coger datos de twitter.\n",
    "# 2. Cargar un csv con datos y verlo en una gráfica y usar NER.\n",
    "# 3. Tweet por tweet determinar de qué está hablando y el sentimiento."
   ]
  },
  {
   "cell_type": "code",
   "execution_count": 19,
   "metadata": {},
   "outputs": [
    {
     "data": {
      "text/plain": [
       "[('Obama', 11),\n",
       " ('Malcolm', 7),\n",
       " ('Warren', 7),\n",
       " ('Bobby', 7),\n",
       " ('Gladwell', 6),\n",
       " ('Flay', 6),\n",
       " ('Pelosi', 5),\n",
       " ('Buffet', 5),\n",
       " ('Kobe', 4),\n",
       " ('Booz', 3)]"
      ]
     },
     "execution_count": 19,
     "metadata": {},
     "output_type": "execute_result"
    }
   ],
   "source": [
    "#Personas\n",
    "person =df_entities[df_entities['ner'].str.contains(\"PERSON\")]\n",
    "cnt_person = Counter(person['word'])\n",
    "cnt_person.most_common(10)"
   ]
  },
  {
   "cell_type": "code",
   "execution_count": 20,
   "metadata": {},
   "outputs": [
    {
     "data": {
      "text/plain": [
       "[('China', 9),\n",
       " ('San', 8),\n",
       " ('Francisco', 8),\n",
       " ('North', 6),\n",
       " ('Korea', 6),\n",
       " ('Iran', 4),\n",
       " ('Bay', 2),\n",
       " ('East', 2),\n",
       " ('Palo', 2),\n",
       " ('Alto', 2)]"
      ]
     },
     "execution_count": 20,
     "metadata": {},
     "output_type": "execute_result"
    }
   ],
   "source": [
    "#Localizaciones\n",
    "locations =df_entities[df_entities['ner'].str.contains(\"LOCATION\")]\n",
    "cnt_location = Counter(locations['word'])\n",
    "cnt_location.most_common(10)"
   ]
  },
  {
   "cell_type": "markdown",
   "metadata": {},
   "source": [
    "# Combinando NER con el análisis de sentimientos.\n",
    "Lo que vamos a hacer ahora es combinar el reconocimiento de entidades con el análisis de sentimientos. En el libro lo pone de manera explícita, pero vamos a tratar de hacerlo de manera automática.\n",
    "Es decir vamos a coger el primero de todas las organizaciones, personas y lugares."
   ]
  },
  {
   "cell_type": "code",
   "execution_count": 21,
   "metadata": {},
   "outputs": [
    {
     "data": {
      "text/plain": [
       "3.142857142857143"
      ]
     },
     "execution_count": 21,
     "metadata": {},
     "output_type": "execute_result"
    }
   ],
   "source": [
    "subset = prueba[prueba['final'].str.contains(cnt_person.most_common(2)[1][0])]\n",
    "avg_sentiment = np.mean(subset['label'])\n",
    "avg_sentiment\n",
    "subset['label']\n",
    "#subset = dataset[dataset['final'].str.contains(cnt_person.most_common(1)[0][0])]\n",
    "#avg_sentiment = np.mean(subset['label'])"
   ]
  },
  {
   "cell_type": "code",
   "execution_count": 31,
   "metadata": {},
   "outputs": [],
   "source": [
    "def a():\n",
    "    x = (1,9)\n",
    "    n = (2,3)\n",
    "    m = ('h','r')\n",
    "    return (x,n,m)"
   ]
  },
  {
   "cell_type": "code",
   "execution_count": 32,
   "metadata": {},
   "outputs": [
    {
     "data": {
      "text/plain": [
       "((1, 9), (2, 3), ('h', 'r'))"
      ]
     },
     "execution_count": 32,
     "metadata": {},
     "output_type": "execute_result"
    }
   ],
   "source": [
    "resultado = a()\n",
    "resultado"
   ]
  },
  {
   "cell_type": "code",
   "execution_count": 33,
   "metadata": {},
   "outputs": [
    {
     "name": "stdout",
     "output_type": "stream",
     "text": [
      "ahora toca  1\n",
      "ahora toca  9\n",
      "ahora toca  2\n",
      "ahora toca  3\n",
      "ahora toca  h\n",
      "ahora toca  r\n"
     ]
    }
   ],
   "source": [
    "for x in resultado:\n",
    "    for y in x:\n",
    "        print('ahora toca ',y)\n",
    "        i=i+1"
   ]
  },
  {
   "cell_type": "code",
   "execution_count": null,
   "metadata": {},
   "outputs": [],
   "source": []
  }
 ],
 "metadata": {
  "kernelspec": {
   "display_name": "Python 3",
   "language": "python",
   "name": "python3"
  },
  "language_info": {
   "codemirror_mode": {
    "name": "ipython",
    "version": 3
   },
   "file_extension": ".py",
   "mimetype": "text/x-python",
   "name": "python",
   "nbconvert_exporter": "python",
   "pygments_lexer": "ipython3",
   "version": "3.6.4"
  }
 },
 "nbformat": 4,
 "nbformat_minor": 2
}
